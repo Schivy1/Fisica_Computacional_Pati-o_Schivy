{
 "cells": [
  {
   "cell_type": "markdown",
   "metadata": {},
   "source": [
    "## Ejercicio 1"
   ]
  },
  {
   "cell_type": "code",
   "execution_count": 1,
   "metadata": {
    "collapsed": false
   },
   "outputs": [
    {
     "data": {
      "text/plain": [
       "raices (generic function with 1 method)"
      ]
     },
     "execution_count": 1,
     "metadata": {},
     "output_type": "execute_result"
    }
   ],
   "source": [
    "function raices(w1) #Esta funci{on calcula las raices de la funcion f(x)=x^3-x^2-x-1 dado un valor inicial w1\n",
    "    f(x) = x^3-x^2-x-1\n",
    "    Df(x) = 3*x^2-2*x-1\n",
    "    Er = 10\n",
    "    while Er > 0.000001 # Se utiliza un while para encontrar la  raíz donde se va a entrar al ciclo si el error Er es > a un valor dado\n",
    "        w2 = w1 - (f(w1)/Df(w1))\n",
    "        Er = abs(w2-w1)\n",
    "        w1 = w2\n",
    "            end\n",
    "    w1\n",
    "end"
   ]
  },
  {
   "cell_type": "code",
   "execution_count": 2,
   "metadata": {
    "collapsed": false
   },
   "outputs": [
    {
     "data": {
      "text/plain": [
       "1.8392867552141614"
      ]
     },
     "execution_count": 2,
     "metadata": {},
     "output_type": "execute_result"
    }
   ],
   "source": [
    "raices(150)# Se calculo la raíz con el valor inicial w1=150"
   ]
  },
  {
   "cell_type": "code",
   "execution_count": 7,
   "metadata": {
    "collapsed": false
   },
   "outputs": [],
   "source": [
    "using PyPlot"
   ]
  },
  {
   "cell_type": "code",
   "execution_count": 4,
   "metadata": {
    "collapsed": false
   },
   "outputs": [
    {
     "data": {
      "text/plain": [
       "100-element Array{Float64,1}:\n",
       " -11.0       \n",
       " -10.4053    \n",
       "  -9.83306   \n",
       "  -9.28288   \n",
       "  -8.75437   \n",
       "  -8.24714   \n",
       "  -7.76078   \n",
       "  -7.29489   \n",
       "  -6.8491    \n",
       "  -6.42299   \n",
       "  -6.01618   \n",
       "  -5.62826   \n",
       "  -5.25884   \n",
       "   ⋮         \n",
       "  -1.21125   \n",
       "  -1.078     \n",
       "  -0.932382  \n",
       "  -0.774002  \n",
       "  -0.602463  \n",
       "  -0.417369  \n",
       "  -0.218325  \n",
       "  -0.00493559\n",
       "   0.223196  \n",
       "   0.466465  \n",
       "   0.725268  \n",
       "   1.0       "
      ]
     },
     "execution_count": 4,
     "metadata": {},
     "output_type": "execute_result"
    }
   ],
   "source": [
    "x = linspace(-2,2,100)#Se le dan valores a x de -2 a 2\n",
    "y = (x.^3-x.^2-x-1) # Se define a  como la función x.^3-x.^2-x-1 "
   ]
  },
  {
   "cell_type": "code",
   "execution_count": 5,
   "metadata": {
    "collapsed": false
   },
   "outputs": [
    {
     "data": {
      "image/png": "[encoded data removed]",
      "text/plain": [
       "PyPlot.Figure(PyObject <matplotlib.figure.Figure object at 0x7f5e27f0e1d0>)"
      ]
     },
     "metadata": {},
     "output_type": "display_data"
    },
    {
     "data": {
      "text/plain": [
       "1-element Array{Any,1}:\n",
       " PyObject <matplotlib.lines.Line2D object at 0x7f5e25c86090>"
      ]
     },
     "execution_count": 5,
     "metadata": {},
     "output_type": "execute_result"
    }
   ],
   "source": [
    "grid(\"on\")\n",
    "plot(x,y)#Se gráfica x de -2 a 2 en la función y"
   ]
  },
  {
   "cell_type": "code",
   "execution_count": 6,
   "metadata": {
    "collapsed": false
   },
   "outputs": [
    {
     "data": {
      "text/plain": [
       "Newton (generic function with 1 method)"
      ]
     },
     "execution_count": 6,
     "metadata": {},
     "output_type": "execute_result"
    }
   ],
   "source": [
    "function Newton(w1)\n",
    "    h=zeros(1:100)\n",
    "    h[1] = w1\n",
    "    f(x) = x^3-x^2-x-1\n",
    "    Df(x) = 3*x^2-2*x-1\n",
    "for i in 2:100\n",
    "        w2 = w1 - (f(w1)/Df(w1))\n",
    "        w1 = w2\n",
    "         h[i] = w1\n",
    "            end\n",
    "    println(h)\n",
    "end"
   ]
  },
  {
   "cell_type": "code",
   "execution_count": 7,
   "metadata": {
    "collapsed": false
   },
   "outputs": [
    {
     "ename": "LoadError",
     "evalue": "\u001b[91mInexactError()\u001b[39m",
     "output_type": "error",
     "traceback": [
      "\u001b[91mInexactError()\u001b[39m",
      "",
      "Stacktrace:",
      " [1] \u001b[1mconvert\u001b[22m\u001b[22m\u001b[1m(\u001b[22m\u001b[22m::Type{Int64}, ::Float64\u001b[1m)\u001b[22m\u001b[22m at \u001b[1m./float.jl:679\u001b[22m\u001b[22m",
      " [2] \u001b[1mNewton\u001b[22m\u001b[22m\u001b[1m(\u001b[22m\u001b[22m::Int64\u001b[1m)\u001b[22m\u001b[22m at \u001b[1m./In[6]:9\u001b[22m\u001b[22m"
     ]
    }
   ],
   "source": [
    "Newton(15)"
   ]
  },
  {
   "cell_type": "code",
   "execution_count": 9,
   "metadata": {
    "collapsed": true
   },
   "outputs": [],
   "source": [
    "function raices2(x0::Float64) #Esta función calcula las raices de la función f y pero va guardando cada iteración en el vector list.\n",
    "    list=zeros(Complex64,100);\n",
    "    x=x0;\n",
    "    for i in 1:100\n",
    "        f= x^3-x^2-x-1\n",
    "        df=3*x^2-2*x-1 \n",
    "        x=x-f/df;\n",
    "        list[i]=x;\n",
    "    end\n",
    "    return list\n",
    "end;"
   ]
  },
  {
   "cell_type": "code",
   "execution_count": 10,
   "metadata": {
    "collapsed": false
   },
   "outputs": [],
   "source": [
    "list1=raices2(10.0); #Se generaron 4 vectores para cuatro diferentes condiciones iniciales\n",
    "list2=raices2(5.1);\n",
    "list3=raices2(15.5);\n",
    "list4=raices2(-34.5);"
   ]
  },
  {
   "cell_type": "code",
   "execution_count": 11,
   "metadata": {
    "collapsed": false,
    "scrolled": true
   },
   "outputs": [
    {
     "data": {
      "image/png": "[encoded data removed]",
      "text/plain": [
       "PyPlot.Figure(PyObject <matplotlib.figure.Figure object at 0x7f5e259cf850>)"
      ]
     },
     "metadata": {},
     "output_type": "display_data"
    }
   ],
   "source": [
    "plot(real(list1)) # Se gráficaron todas las listi pata ver el calculo de la raíz, podemos ver que para cualquier\n",
    "plot(real(list2)) # condición inicial la raíz siempre tiende a 1.839286755\n",
    "plot(real(list3))\n",
    "plot(real(list4))\n",
    "show()"
   ]
  },
  {
   "cell_type": "code",
   "execution_count": 12,
   "metadata": {
    "collapsed": false
   },
   "outputs": [
    {
     "data": {
      "text/plain": [
       "error (generic function with 1 method)"
      ]
     },
     "execution_count": 12,
     "metadata": {},
     "output_type": "execute_result"
    }
   ],
   "source": [
    "function error(w1) #Esta función calcula el error del método de newton para una condicion inicial w1.\n",
    "lista=zeros(100)\n",
    "f(x) = x^3-x^2-x-1\n",
    "df(x) = 3*x^2-2*x-1\n",
    "    for i in 1:100\n",
    "        w1 = w1 - (f(w1)/df(w1))\n",
    "        lista[i] = w1 #Se ralizan los pasos del método de newton.\n",
    "    end\n",
    "  return abs((lista-lista[100]))./lista[100] # Se calcula el error para cada iterción.\n",
    "end"
   ]
  },
  {
   "cell_type": "code",
   "execution_count": 13,
   "metadata": {
    "collapsed": false
   },
   "outputs": [
    {
     "name": "stderr",
     "output_type": "stream",
     "text": [
      "\u001b[1m\u001b[33mWARNING: \u001b[39m\u001b[22m\u001b[33mabs{T <: Number}(x::AbstractArray{T}) is deprecated, use abs.(x) instead.\u001b[39m\n",
      "Stacktrace:\n",
      " [1] \u001b[1mdepwarn\u001b[22m\u001b[22m\u001b[1m(\u001b[22m\u001b[22m::String, ::Symbol\u001b[1m)\u001b[22m\u001b[22m at \u001b[1m./deprecated.jl:70\u001b[22m\u001b[22m\n",
      " [2] \u001b[1mabs\u001b[22m\u001b[22m\u001b[1m(\u001b[22m\u001b[22m::Array{Float64,1}\u001b[1m)\u001b[22m\u001b[22m at \u001b[1m./deprecated.jl:57\u001b[22m\u001b[22m\n",
      " [3] \u001b[1merror\u001b[22m\u001b[22m\u001b[1m(\u001b[22m\u001b[22m::Int64\u001b[1m)\u001b[22m\u001b[22m at \u001b[1m./In[12]:9\u001b[22m\u001b[22m\n",
      " [4] \u001b[1minclude_string\u001b[22m\u001b[22m\u001b[1m(\u001b[22m\u001b[22m::String, ::String\u001b[1m)\u001b[22m\u001b[22m at \u001b[1m./loading.jl:515\u001b[22m\u001b[22m\n",
      " [5] \u001b[1mexecute_request\u001b[22m\u001b[22m\u001b[1m(\u001b[22m\u001b[22m::ZMQ.Socket, ::IJulia.Msg\u001b[1m)\u001b[22m\u001b[22m at \u001b[1m/opt/julia_packages/.julia/v0.6/IJulia/src/execute_request.jl:160\u001b[22m\u001b[22m\n",
      " [6] \u001b[1meventloop\u001b[22m\u001b[22m\u001b[1m(\u001b[22m\u001b[22m::ZMQ.Socket\u001b[1m)\u001b[22m\u001b[22m at \u001b[1m/opt/julia_packages/.julia/v0.6/IJulia/src/eventloop.jl:8\u001b[22m\u001b[22m\n",
      " [7] \u001b[1m(::IJulia.##11#14)\u001b[22m\u001b[22m\u001b[1m(\u001b[22m\u001b[22m\u001b[1m)\u001b[22m\u001b[22m at \u001b[1m./task.jl:335\u001b[22m\u001b[22m\n",
      "while loading In[13], in expression starting on line 1\n"
     ]
    },
    {
     "data": {
      "text/plain": [
       "100-element Array{Float64,1}:\n",
       " 0.919902   \n",
       " 0.419082   \n",
       " 0.137675   \n",
       " 0.0220306  \n",
       " 0.000702809\n",
       " 7.49141e-7 \n",
       " 8.52427e-13\n",
       " 0.0        \n",
       " 0.0        \n",
       " 0.0        \n",
       " 0.0        \n",
       " 0.0        \n",
       " 0.0        \n",
       " ⋮          \n",
       " 0.0        \n",
       " 0.0        \n",
       " 0.0        \n",
       " 0.0        \n",
       " 0.0        \n",
       " 0.0        \n",
       " 0.0        \n",
       " 0.0        \n",
       " 0.0        \n",
       " 0.0        \n",
       " 0.0        \n",
       " 0.0        "
      ]
     },
     "execution_count": 13,
     "metadata": {},
     "output_type": "execute_result"
    }
   ],
   "source": [
    "error(5)"
   ]
  },
  {
   "cell_type": "code",
   "execution_count": 14,
   "metadata": {
    "collapsed": false,
    "scrolled": true
   },
   "outputs": [
    {
     "name": "stderr",
     "output_type": "stream",
     "text": [
      "\u001b[1m\u001b[33mWARNING: \u001b[39m\u001b[22m\u001b[33mabs{T <: Number}(x::AbstractArray{T}) is deprecated, use abs.(x) instead.\u001b[39m\n",
      "Stacktrace:\n",
      " [1] \u001b[1mdepwarn\u001b[22m\u001b[22m\u001b[1m(\u001b[22m\u001b[22m::String, ::Symbol\u001b[1m)\u001b[22m\u001b[22m at \u001b[1m./deprecated.jl:70\u001b[22m\u001b[22m\n",
      " [2] \u001b[1mabs\u001b[22m\u001b[22m\u001b[1m(\u001b[22m\u001b[22m::Array{Float64,1}\u001b[1m)\u001b[22m\u001b[22m at \u001b[1m./deprecated.jl:57\u001b[22m\u001b[22m\n",
      " [3] \u001b[1merror\u001b[22m\u001b[22m\u001b[1m(\u001b[22m\u001b[22m::Int64\u001b[1m)\u001b[22m\u001b[22m at \u001b[1m./In[12]:9\u001b[22m\u001b[22m\n",
      " [4] \u001b[1minclude_string\u001b[22m\u001b[22m\u001b[1m(\u001b[22m\u001b[22m::String, ::String\u001b[1m)\u001b[22m\u001b[22m at \u001b[1m./loading.jl:515\u001b[22m\u001b[22m\n",
      " [5] \u001b[1mexecute_request\u001b[22m\u001b[22m\u001b[1m(\u001b[22m\u001b[22m::ZMQ.Socket, ::IJulia.Msg\u001b[1m)\u001b[22m\u001b[22m at \u001b[1m/opt/julia_packages/.julia/v0.6/IJulia/src/execute_request.jl:160\u001b[22m\u001b[22m\n",
      " [6] \u001b[1meventloop\u001b[22m\u001b[22m\u001b[1m(\u001b[22m\u001b[22m::ZMQ.Socket\u001b[1m)\u001b[22m\u001b[22m at \u001b[1m/opt/julia_packages/.julia/v0.6/IJulia/src/eventloop.jl:8\u001b[22m\u001b[22m\n",
      " [7] \u001b[1m(::IJulia.##11#14)\u001b[22m\u001b[22m\u001b[1m(\u001b[22m\u001b[22m\u001b[1m)\u001b[22m\u001b[22m at \u001b[1m./task.jl:335\u001b[22m\u001b[22m\n",
      "while loading In[14], in expression starting on line 1\n",
      "\u001b[1m\u001b[33mWARNING: \u001b[39m\u001b[22m\u001b[33mabs{T <: Number}(x::AbstractArray{T}) is deprecated, use abs.(x) instead.\u001b[39m\n",
      "Stacktrace:\n",
      " [1] \u001b[1mdepwarn\u001b[22m\u001b[22m\u001b[1m(\u001b[22m\u001b[22m::String, ::Symbol\u001b[1m)\u001b[22m\u001b[22m at \u001b[1m./deprecated.jl:70\u001b[22m\u001b[22m\n",
      " [2] \u001b[1mabs\u001b[22m\u001b[22m\u001b[1m(\u001b[22m\u001b[22m::Array{Float64,1}\u001b[1m)\u001b[22m\u001b[22m at \u001b[1m./deprecated.jl:57\u001b[22m\u001b[22m\n",
      " [3] \u001b[1merror\u001b[22m\u001b[22m\u001b[1m(\u001b[22m\u001b[22m::Int64\u001b[1m)\u001b[22m\u001b[22m at \u001b[1m./In[12]:9\u001b[22m\u001b[22m\n",
      " [4] \u001b[1minclude_string\u001b[22m\u001b[22m\u001b[1m(\u001b[22m\u001b[22m::String, ::String\u001b[1m)\u001b[22m\u001b[22m at \u001b[1m./loading.jl:515\u001b[22m\u001b[22m\n",
      " [5] \u001b[1mexecute_request\u001b[22m\u001b[22m\u001b[1m(\u001b[22m\u001b[22m::ZMQ.Socket, ::IJulia.Msg\u001b[1m)\u001b[22m\u001b[22m at \u001b[1m/opt/julia_packages/.julia/v0.6/IJulia/src/execute_request.jl:160\u001b[22m\u001b[22m\n",
      " [6] \u001b[1meventloop\u001b[22m\u001b[22m\u001b[1m(\u001b[22m\u001b[22m::ZMQ.Socket\u001b[1m)\u001b[22m\u001b[22m at \u001b[1m/opt/julia_packages/.julia/v0.6/IJulia/src/eventloop.jl:8\u001b[22m\u001b[22m\n",
      " [7] \u001b[1m(::IJulia.##11#14)\u001b[22m\u001b[22m\u001b[1m(\u001b[22m\u001b[22m\u001b[1m)\u001b[22m\u001b[22m at \u001b[1m./task.jl:335\u001b[22m\u001b[22m\n",
      "while loading In[14], in expression starting on line 2\n",
      "\u001b[1m\u001b[33mWARNING: \u001b[39m\u001b[22m\u001b[33mabs{T <: Number}(x::AbstractArray{T}) is deprecated, use abs.(x) instead.\u001b[39m\n",
      "Stacktrace:\n",
      " [1] \u001b[1mdepwarn\u001b[22m\u001b[22m\u001b[1m(\u001b[22m\u001b[22m::String, ::Symbol\u001b[1m)\u001b[22m\u001b[22m at \u001b[1m./deprecated.jl:70\u001b[22m\u001b[22m\n",
      " [2] \u001b[1mabs\u001b[22m\u001b[22m\u001b[1m(\u001b[22m\u001b[22m::Array{Float64,1}\u001b[1m)\u001b[22m\u001b[22m at \u001b[1m./deprecated.jl:57\u001b[22m\u001b[22m\n",
      " [3] \u001b[1merror\u001b[22m\u001b[22m\u001b[1m(\u001b[22m\u001b[22m::Int64\u001b[1m)\u001b[22m\u001b[22m at \u001b[1m./In[12]:9\u001b[22m\u001b[22m\n",
      " [4] \u001b[1minclude_string\u001b[22m\u001b[22m\u001b[1m(\u001b[22m\u001b[22m::String, ::String\u001b[1m)\u001b[22m\u001b[22m at \u001b[1m./loading.jl:515\u001b[22m\u001b[22m\n",
      " [5] \u001b[1mexecute_request\u001b[22m\u001b[22m\u001b[1m(\u001b[22m\u001b[22m::ZMQ.Socket, ::IJulia.Msg\u001b[1m)\u001b[22m\u001b[22m at \u001b[1m/opt/julia_packages/.julia/v0.6/IJulia/src/execute_request.jl:160\u001b[22m\u001b[22m\n",
      " [6] \u001b[1meventloop\u001b[22m\u001b[22m\u001b[1m(\u001b[22m\u001b[22m::ZMQ.Socket\u001b[1m)\u001b[22m\u001b[22m at \u001b[1m/opt/julia_packages/.julia/v0.6/IJulia/src/eventloop.jl:8\u001b[22m\u001b[22m\n",
      " [7] \u001b[1m(::IJulia.##11#14)\u001b[22m\u001b[22m\u001b[1m(\u001b[22m\u001b[22m\u001b[1m)\u001b[22m\u001b[22m at \u001b[1m./task.jl:335\u001b[22m\u001b[22m\n",
      "while loading In[14], in expression starting on line 3\n",
      "\u001b[1m\u001b[33mWARNING: \u001b[39m\u001b[22m\u001b[33mabs{T <: Number}(x::AbstractArray{T}) is deprecated, use abs.(x) instead.\u001b[39m\n",
      "Stacktrace:\n",
      " [1] \u001b[1mdepwarn\u001b[22m\u001b[22m\u001b[1m(\u001b[22m\u001b[22m::String, ::Symbol\u001b[1m)\u001b[22m\u001b[22m at \u001b[1m./deprecated.jl:70\u001b[22m\u001b[22m\n",
      " [2] \u001b[1mabs\u001b[22m\u001b[22m\u001b[1m(\u001b[22m\u001b[22m::Array{Float64,1}\u001b[1m)\u001b[22m\u001b[22m at \u001b[1m./deprecated.jl:57\u001b[22m\u001b[22m\n",
      " [3] \u001b[1merror\u001b[22m\u001b[22m\u001b[1m(\u001b[22m\u001b[22m::Int64\u001b[1m)\u001b[22m\u001b[22m at \u001b[1m./In[12]:9\u001b[22m\u001b[22m\n",
      " [4] \u001b[1minclude_string\u001b[22m\u001b[22m\u001b[1m(\u001b[22m\u001b[22m::String, ::String\u001b[1m)\u001b[22m\u001b[22m at \u001b[1m./loading.jl:515\u001b[22m\u001b[22m\n",
      " [5] \u001b[1mexecute_request\u001b[22m\u001b[22m\u001b[1m(\u001b[22m\u001b[22m::ZMQ.Socket, ::IJulia.Msg\u001b[1m)\u001b[22m\u001b[22m at \u001b[1m/opt/julia_packages/.julia/v0.6/IJulia/src/execute_request.jl:160\u001b[22m\u001b[22m\n",
      " [6] \u001b[1meventloop\u001b[22m\u001b[22m\u001b[1m(\u001b[22m\u001b[22m::ZMQ.Socket\u001b[1m)\u001b[22m\u001b[22m at \u001b[1m/opt/julia_packages/.julia/v0.6/IJulia/src/eventloop.jl:8\u001b[22m\u001b[22m\n",
      " [7] \u001b[1m(::IJulia.##11#14)\u001b[22m\u001b[22m\u001b[1m(\u001b[22m\u001b[22m\u001b[1m)\u001b[22m\u001b[22m at \u001b[1m./task.jl:335\u001b[22m\u001b[22m\n",
      "while loading In[14], in expression starting on line 4\n",
      "\u001b[1m\u001b[33mWARNING: \u001b[39m\u001b[22m\u001b[33mabs{T <: Number}(x::AbstractArray{T}) is deprecated, use abs.(x) instead.\u001b[39m\n",
      "Stacktrace:\n",
      " [1] \u001b[1mdepwarn\u001b[22m\u001b[22m\u001b[1m(\u001b[22m\u001b[22m::String, ::Symbol\u001b[1m)\u001b[22m\u001b[22m at \u001b[1m./deprecated.jl:70\u001b[22m\u001b[22m\n",
      " [2] \u001b[1mabs\u001b[22m\u001b[22m\u001b[1m(\u001b[22m\u001b[22m::Array{Float64,1}\u001b[1m)\u001b[22m\u001b[22m at \u001b[1m./deprecated.jl:57\u001b[22m\u001b[22m\n",
      " [3] \u001b[1merror\u001b[22m\u001b[22m\u001b[1m(\u001b[22m\u001b[22m::Int64\u001b[1m)\u001b[22m\u001b[22m at \u001b[1m./In[12]:9\u001b[22m\u001b[22m\n",
      " [4] \u001b[1minclude_string\u001b[22m\u001b[22m\u001b[1m(\u001b[22m\u001b[22m::String, ::String\u001b[1m)\u001b[22m\u001b[22m at \u001b[1m./loading.jl:515\u001b[22m\u001b[22m\n",
      " [5] \u001b[1mexecute_request\u001b[22m\u001b[22m\u001b[1m(\u001b[22m\u001b[22m::ZMQ.Socket, ::IJulia.Msg\u001b[1m)\u001b[22m\u001b[22m at \u001b[1m/opt/julia_packages/.julia/v0.6/IJulia/src/execute_request.jl:160\u001b[22m\u001b[22m\n",
      " [6] \u001b[1meventloop\u001b[22m\u001b[22m\u001b[1m(\u001b[22m\u001b[22m::ZMQ.Socket\u001b[1m)\u001b[22m\u001b[22m at \u001b[1m/opt/julia_packages/.julia/v0.6/IJulia/src/eventloop.jl:8\u001b[22m\u001b[22m\n",
      " [7] \u001b[1m(::IJulia.##11#14)\u001b[22m\u001b[22m\u001b[1m(\u001b[22m\u001b[22m\u001b[1m)\u001b[22m\u001b[22m at \u001b[1m./task.jl:335\u001b[22m\u001b[22m\n",
      "while loading In[14], in expression starting on line 5\n"
     ]
    }
   ],
   "source": [
    "list5=error(10); #Se generaron varial variables para calcular el error para diferentes condiciones iniciales.\n",
    "list6=error(5);\n",
    "list7=error(15);\n",
    "list8=error(34);\n",
    "list9=error(-34);\n"
   ]
  },
  {
   "cell_type": "code",
   "execution_count": 15,
   "metadata": {
    "collapsed": false
   },
   "outputs": [
    {
     "data": {
      "image/png": "[encoded data removed]",
      "text/plain": [
       "PyPlot.Figure(PyObject <matplotlib.figure.Figure object at 0x7f5e220e3a90>)"
      ]
     },
     "metadata": {},
     "output_type": "display_data"
    }
   ],
   "source": [
    "plot(real(list5)) #Se gráfico el error para las distintas condiciones inicales, en la gráfica vemos que siempre tiende a cero\n",
    "plot(real(list6))\n",
    "plot(real(list7))\n",
    "plot(real(list8))\n",
    "plot(real(list9))\n",
    "show()"
   ]
  },
  {
   "cell_type": "code",
   "execution_count": 2,
   "metadata": {
    "collapsed": false
   },
   "outputs": [
    {
     "data": {
      "text/plain": [
       "errorbiseccion (generic function with 1 method)"
      ]
     },
     "execution_count": 2,
     "metadata": {},
     "output_type": "execute_result"
    }
   ],
   "source": [
    "function errorbiseccion(a,b,N) #Esta función calcula las raices de una función f por el método de bisección y calcula el error hasta llegar a las N iteraciones.\n",
    "r= []\n",
    "p = (a+b)/2\n",
    "    f(x) = x^3-x^2-x-1\n",
    "    for i in 1:N\n",
    "        if  f(a)*f(p) > 0\n",
    "            a = p\n",
    "        end\n",
    "        \n",
    "        if f(b)*f(p) > 0\n",
    "            b = p\n",
    "        end\n",
    "        p= (a+b)/2\n",
    "        push!(r,p)\n",
    "    end\n",
    "return    ((r-r[N]))./r[N]\n",
    "\n",
    "end"
   ]
  },
  {
   "cell_type": "code",
   "execution_count": 3,
   "metadata": {
    "collapsed": false
   },
   "outputs": [
    {
     "data": {
      "text/plain": [
       "biseccion (generic function with 1 method)"
      ]
     },
     "execution_count": 3,
     "metadata": {},
     "output_type": "execute_result"
    }
   ],
   "source": [
    "function biseccion(a,b,N)#Esta función calcula las raices de una función f por el método de bisección\n",
    "r= []\n",
    "p = (a+b)/2\n",
    "    f(x) = x^3-x^2-x-1\n",
    "    for i in 1:N\n",
    "        if  f(a)*f(p) > 0\n",
    "            a = p\n",
    "        end\n",
    "        \n",
    "        if f(b)*f(p) > 0\n",
    "            b = p\n",
    "        end\n",
    "        p= (a+b)/2\n",
    "        push!(r,p)\n",
    "    end\n",
    "return    r\n",
    "\n",
    "end"
   ]
  },
  {
   "cell_type": "code",
   "execution_count": 4,
   "metadata": {
    "collapsed": false
   },
   "outputs": [
    {
     "data": {
      "text/plain": [
       "50-element Array{Any,1}:\n",
       " 1.5    \n",
       " 1.75   \n",
       " 1.875  \n",
       " 1.8125 \n",
       " 1.84375\n",
       " 1.82813\n",
       " 1.83594\n",
       " 1.83984\n",
       " 1.83789\n",
       " 1.83887\n",
       " 1.83936\n",
       " 1.83911\n",
       " 1.83923\n",
       " ⋮      \n",
       " 1.83929\n",
       " 1.83929\n",
       " 1.83929\n",
       " 1.83929\n",
       " 1.83929\n",
       " 1.83929\n",
       " 1.83929\n",
       " 1.83929\n",
       " 1.83929\n",
       " 1.83929\n",
       " 1.83929\n",
       " 1.83929"
      ]
     },
     "execution_count": 4,
     "metadata": {},
     "output_type": "execute_result"
    }
   ],
   "source": [
    "biseccion(0,2,50) #prueba de la función bisección."
   ]
  },
  {
   "cell_type": "code",
   "execution_count": 5,
   "metadata": {
    "collapsed": false
   },
   "outputs": [],
   "source": [
    "list10=biseccion(0.0,200.0,50);#Se calcularon raices con dierentes condiciones iniciales y sus repectivos errores.\n",
    "list11=errorbiseccion(0.0,200.0,50);\n",
    "list12=biseccion(0.0,100.0,50);\n",
    "list13=errorbiseccion(0.0,100.0,50);"
   ]
  },
  {
   "cell_type": "code",
   "execution_count": 8,
   "metadata": {
    "collapsed": false
   },
   "outputs": [
    {
     "data": {
      "image/png": "[encoded data removed]",
      "text/plain": [
       "PyPlot.Figure(PyObject <matplotlib.figure.Figure object at 0x7f807807f750>)"
      ]
     },
     "metadata": {},
     "output_type": "display_data"
    }
   ],
   "source": [
    "plot(real(list10))#Se gráficaron para compararse.\n",
    "plot(real(list11))\n",
    "plot(real(list12))\n",
    "plot(real(list13))\n",
    "show()"
   ]
  },
  {
   "cell_type": "markdown",
   "metadata": {
    "collapsed": true
   },
   "source": [
    "## Ejercicio 2   "
   ]
  },
  {
   "cell_type": "code",
   "execution_count": 9,
   "metadata": {
    "collapsed": false
   },
   "outputs": [
    {
     "data": {
      "text/plain": [
       "f (generic function with 1 method)"
      ]
     },
     "execution_count": 9,
     "metadata": {},
     "output_type": "execute_result"
    }
   ],
   "source": [
    "function f(x)\n",
    "     a = x^3-x^2-x-1\n",
    "    return a\n",
    "end"
   ]
  },
  {
   "cell_type": "code",
   "execution_count": 10,
   "metadata": {
    "collapsed": false
   },
   "outputs": [
    {
     "data": {
      "text/plain": [
       "df (generic function with 1 method)"
      ]
     },
     "execution_count": 10,
     "metadata": {},
     "output_type": "execute_result"
    }
   ],
   "source": [
    "function df(x)\n",
    "    b = 3*x^2-2*x-1\n",
    "    return b\n",
    "end"
   ]
  },
  {
   "cell_type": "code",
   "execution_count": 11,
   "metadata": {
    "collapsed": false
   },
   "outputs": [
    {
     "data": {
      "text/plain": [
       "newtonFunciones (generic function with 1 method)"
      ]
     },
     "execution_count": 11,
     "metadata": {},
     "output_type": "execute_result"
    }
   ],
   "source": [
    "function newtonFunciones(f::Function,df::Function, x0) # Se creo una función que utilice el metodo de Newton pero esta vez la funcion toma funciones, su derivada y una condicion inicial como argumento.\n",
    "w1 = x0    \n",
    "Er = 10\n",
    "        while Er > 0.000001\n",
    "        w2 = w1 - (f(w1)/df(w1))\n",
    "        Er = abs(w2-w1)\n",
    "        w1 = w2\n",
    "            end\n",
    "   println(w1)\n",
    "end"
   ]
  },
  {
   "cell_type": "code",
   "execution_count": 12,
   "metadata": {
    "collapsed": false
   },
   "outputs": [
    {
     "name": "stdout",
     "output_type": "stream",
     "text": [
      "1.8392867552141636\n"
     ]
    }
   ],
   "source": [
    "newtonFunciones(f,df,1.5)"
   ]
  },
  {
   "cell_type": "code",
   "execution_count": 13,
   "metadata": {
    "collapsed": false
   },
   "outputs": [
    {
     "data": {
      "text/plain": [
       "2.0:0.005025125628140704:3.0"
      ]
     },
     "execution_count": 13,
     "metadata": {},
     "output_type": "execute_result"
    }
   ],
   "source": [
    "x = linspace(2,3,200)"
   ]
  },
  {
   "cell_type": "code",
   "execution_count": 14,
   "metadata": {
    "collapsed": false
   },
   "outputs": [
    {
     "name": "stdout",
     "output_type": "stream",
     "text": [
      "1.8392867552141636\n",
      "1.8392867552141652\n",
      "1.8392867552141672\n",
      "1.8392867552141703\n",
      "1.8392867552141747\n",
      "1.8392867552141814\n",
      "1.8392867552141907\n",
      "1.839286755214204\n",
      "1.8392867552142227\n",
      "1.8392867552142484\n",
      "1.839286755214284\n",
      "1.8392867552143322\n",
      "1.8392867552143974\n",
      "1.8392867552144851\n",
      "1.8392867552146015\n",
      "1.8392867552147554\n",
      "1.8392867552149574\n",
      "1.8392867552141612\n",
      "1.8392867552141612\n",
      "1.8392867552141612\n",
      "1.8392867552141612\n",
      "1.8392867552141612\n",
      "1.8392867552141612\n",
      "1.8392867552141612\n",
      "1.8392867552141612\n",
      "1.8392867552141612\n",
      "1.8392867552141612\n",
      "1.8392867552141612\n",
      "1.8392867552141612\n",
      "1.839286755214161\n",
      "1.8392867552141612\n",
      "1.8392867552141612\n",
      "1.8392867552141612\n",
      "1.8392867552141612\n",
      "1.8392867552141612\n",
      "1.8392867552141612\n",
      "1.8392867552141612\n",
      "1.8392867552141612\n",
      "1.8392867552141612\n",
      "1.839286755214161\n",
      "1.8392867552141612\n",
      "1.8392867552141612\n",
      "1.8392867552141612\n",
      "1.8392867552141612\n",
      "1.8392867552141612\n",
      "1.8392867552141612\n",
      "1.8392867552141612\n",
      "1.839286755214161\n",
      "1.8392867552141612\n",
      "1.8392867552141612\n",
      "1.839286755214161\n",
      "1.8392867552141612\n",
      "1.839286755214161\n",
      "1.8392867552141612\n",
      "1.839286755214161\n",
      "1.8392867552141612\n",
      "1.8392867552141612\n",
      "1.8392867552141612\n",
      "1.839286755214161\n",
      "1.8392867552141612\n",
      "1.839286755214161\n",
      "1.8392867552141612\n",
      "1.8392867552141612\n",
      "1.8392867552141612\n",
      "1.8392867552141612\n",
      "1.8392867552141612\n",
      "1.8392867552141612\n",
      "1.8392867552141612\n",
      "1.8392867552141612\n",
      "1.8392867552141614\n",
      "1.8392867552141612\n",
      "1.8392867552141612\n",
      "1.8392867552141614\n",
      "1.8392867552141614\n",
      "1.8392867552141616\n",
      "1.8392867552141616\n",
      "1.8392867552141619\n",
      "1.839286755214162\n",
      "1.839286755214162\n",
      "1.8392867552141623\n",
      "1.8392867552141625\n",
      "1.839286755214163\n",
      "1.8392867552141634\n",
      "1.8392867552141638\n",
      "1.8392867552141645\n",
      "1.8392867552141654\n",
      "1.839286755214166\n",
      "1.8392867552141672\n",
      "1.8392867552141685\n",
      "1.83928675521417\n",
      "1.8392867552141718\n",
      "1.839286755214174\n",
      "1.8392867552141767\n",
      "1.8392867552141796\n",
      "1.8392867552141834\n",
      "1.8392867552141876\n",
      "1.8392867552141927\n",
      "1.8392867552141985\n",
      "1.8392867552142056\n",
      "1.8392867552142138\n",
      "1.8392867552142234\n",
      "1.8392867552142347\n",
      "1.839286755214248\n",
      "1.8392867552142633\n",
      "1.839286755214281\n",
      "1.839286755214302\n",
      "1.839286755214326\n",
      "1.839286755214354\n",
      "1.8392867552143861\n",
      "1.8392867552144234\n",
      "1.8392867552144665\n",
      "1.8392867552145162\n",
      "1.8392867552145733\n",
      "1.8392867552146388\n",
      "1.839286755214714\n",
      "1.8392867552148002\n",
      "1.8392867552148988\n",
      "1.8392867552141612\n",
      "1.8392867552141612\n",
      "1.8392867552141612\n",
      "1.8392867552141612\n",
      "1.8392867552141612\n",
      "1.8392867552141612\n",
      "1.8392867552141612\n",
      "1.8392867552141612\n",
      "1.8392867552141612\n",
      "1.8392867552141612\n",
      "1.8392867552141612\n",
      "1.8392867552141612\n",
      "1.8392867552141612\n",
      "1.839286755214161\n",
      "1.8392867552141612\n",
      "1.8392867552141612\n",
      "1.8392867552141612\n",
      "1.8392867552141612\n",
      "1.8392867552141612\n",
      "1.8392867552141612\n",
      "1.8392867552141612\n",
      "1.8392867552141612\n",
      "1.8392867552141612\n",
      "1.839286755214161\n",
      "1.8392867552141612\n",
      "1.8392867552141612\n",
      "1.8392867552141612\n",
      "1.8392867552141612\n",
      "1.8392867552141612\n",
      "1.8392867552141612\n",
      "1.8392867552141612\n",
      "1.8392867552141612\n",
      "1.8392867552141612\n",
      "1.8392867552141612\n",
      "1.8392867552141612\n",
      "1.839286755214161\n",
      "1.8392867552141612\n",
      "1.8392867552141612\n",
      "1.8392867552141612\n",
      "1.8392867552141612\n",
      "1.8392867552141612\n",
      "1.8392867552141612\n",
      "1.8392867552141612\n",
      "1.8392867552141612\n",
      "1.8392867552141612\n",
      "1.8392867552141612\n",
      "1.8392867552141612\n",
      "1.8392867552141612\n",
      "1.8392867552141612\n",
      "1.839286755214161\n",
      "1.839286755214161\n",
      "1.839286755214161\n",
      "1.8392867552141612\n",
      "1.8392867552141612\n",
      "1.8392867552141612\n",
      "1.8392867552141612\n",
      "1.8392867552141612\n",
      "1.8392867552141612\n",
      "1.8392867552141612\n",
      "1.8392867552141612\n",
      "1.8392867552141612\n",
      "1.8392867552141612\n",
      "1.8392867552141612\n",
      "1.8392867552141612\n",
      "1.8392867552141612\n",
      "1.8392867552141612\n",
      "1.839286755214161\n",
      "1.8392867552141612\n",
      "1.8392867552141612\n",
      "1.8392867552141612\n",
      "1.8392867552141612\n",
      "1.8392867552141612\n",
      "1.8392867552141612\n",
      "1.8392867552141612\n",
      "1.8392867552141612\n",
      "1.839286755214161\n",
      "1.8392867552141612\n",
      "1.8392867552141612\n",
      "1.839286755214161\n",
      "1.839286755214161\n",
      "1.8392867552141612\n",
      "1.8392867552141612\n",
      "1.839286755214161\n"
     ]
    },
    {
     "data": {
      "text/plain": [
       "200-element Array{Void,1}:\n",
       " nothing\n",
       " nothing\n",
       " nothing\n",
       " nothing\n",
       " nothing\n",
       " nothing\n",
       " nothing\n",
       " nothing\n",
       " nothing\n",
       " nothing\n",
       " nothing\n",
       " nothing\n",
       " nothing\n",
       " ⋮      \n",
       " nothing\n",
       " nothing\n",
       " nothing\n",
       " nothing\n",
       " nothing\n",
       " nothing\n",
       " nothing\n",
       " nothing\n",
       " nothing\n",
       " nothing\n",
       " nothing\n",
       " nothing"
      ]
     },
     "execution_count": 14,
     "metadata": {},
     "output_type": "execute_result"
    }
   ],
   "source": [
    "newtonFunciones.(f,df, x) #Se probo la funcion para un conjunto de condiciones iniciales"
   ]
  },
  {
   "cell_type": "code",
   "execution_count": 15,
   "metadata": {
    "collapsed": false
   },
   "outputs": [
    {
     "data": {
      "text/plain": [
       "newtonFun2 (generic function with 1 method)"
      ]
     },
     "execution_count": 15,
     "metadata": {},
     "output_type": "execute_result"
    }
   ],
   "source": [
    "function newtonFun2(f::Function,df::Function, x0)\n",
    "w1 = x0    \n",
    "Er = 10\n",
    "t= []\n",
    "        while Er > 0.000001\n",
    "        w2 = w1 - (f(w1)/df(w1))\n",
    "        Er = abs(w2-w1)\n",
    "        w1 = w2\n",
    "            end\n",
    "   println(\"la raiz es = \", w1)\n",
    "end"
   ]
  },
  {
   "cell_type": "code",
   "execution_count": 16,
   "metadata": {
    "collapsed": false
   },
   "outputs": [
    {
     "data": {
      "text/plain": [
       "dg (generic function with 1 method)"
      ]
     },
     "execution_count": 16,
     "metadata": {},
     "output_type": "execute_result"
    }
   ],
   "source": [
    "g(x) = cos(x)\n",
    "dg(x) = -sin(x)"
   ]
  },
  {
   "cell_type": "code",
   "execution_count": 17,
   "metadata": {
    "collapsed": false
   },
   "outputs": [
    {
     "name": "stdout",
     "output_type": "stream",
     "text": [
      "4.71238898038469\n"
     ]
    }
   ],
   "source": [
    "newtonFunciones(g,dg,3*pi/2)"
   ]
  },
  {
   "cell_type": "code",
   "execution_count": 20,
   "metadata": {
    "collapsed": true
   },
   "outputs": [],
   "source": [
    "using SymPy"
   ]
  },
  {
   "cell_type": "code",
   "execution_count": 21,
   "metadata": {
    "collapsed": false
   },
   "outputs": [
    {
     "data": {
      "text/plain": [
       "metodo (generic function with 1 method)"
      ]
     },
     "execution_count": 21,
     "metadata": {},
     "output_type": "execute_result"
    }
   ],
   "source": [
    "function metodo(f,x0) #Se creo una funcion que solo toma como argumentos a la funcion que se desea encontrar la raíz y la condición inicial\n",
    "    x = Sym(\"x\")\n",
    "    Er = 10\n",
    "    w1 = x0\n",
    "    Df = diff(f(x),x)\n",
    "    d = lambdify(Df,[x]) #La funcion lambdify reescribe lo de Sympy para que julia lo entienda\n",
    "        while Er > 0.000001\n",
    "        w2 = w1 - (f(w1)/d(w1))\n",
    "        Er = abs(w2-w1)\n",
    "        w1 = w2\n",
    "            end\n",
    "    return w1\n",
    "end"
   ]
  },
  {
   "cell_type": "code",
   "execution_count": 23,
   "metadata": {
    "collapsed": false
   },
   "outputs": [
    {
     "data": {
      "text/plain": [
       "4.71238898038469"
      ]
     },
     "execution_count": 23,
     "metadata": {},
     "output_type": "execute_result"
    }
   ],
   "source": [
    "h(x) = x^3-x^2-x-1\n",
    "metodo(h,5)"
   ]
  },
  {
   "cell_type": "code",
   "execution_count": null,
   "metadata": {
    "collapsed": true
   },
   "outputs": [],
   "source": []
  }
 ],
 "metadata": {
  "kernelspec": {
   "display_name": "Julia 0.6.0",
   "language": "julia",
   "name": "julia-0.6"
  },
  "language_info": {
   "file_extension": ".jl",
   "mimetype": "application/julia",
   "name": "julia",
   "version": "0.6.0"
  }
 },
 "nbformat": 4,
 "nbformat_minor": 2
}
