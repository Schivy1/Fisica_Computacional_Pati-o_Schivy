{
 "cells": [
  {
   "cell_type": "markdown",
   "metadata": {},
   "source": [
    "### Tarea 10.\n",
    "Editar las rutinas presentadas en esta clase para calcular la _derivada hacia adelante_ a orden más alto, pero en esta ocasión para el operador _derivada simetrizada_.\n",
    "* No olvide hacer el test de la rutina, similar a lo que se hizo en este notebook para el $cos$."
   ]
  },
  {
   "cell_type": "code",
   "execution_count": null,
   "metadata": {
    "collapsed": true
   },
   "outputs": [],
   "source": [
    "using SymPy # Se utilizara la libreria SymPy"
   ]
  },
  {
   "cell_type": "code",
   "execution_count": null,
   "metadata": {
    "collapsed": false
   },
   "outputs": [],
   "source": [
    "using Calculus #voy a utilizar la libreria calculus"
   ]
  },
  {
   "cell_type": "code",
   "execution_count": null,
   "metadata": {
    "collapsed": true
   },
   "outputs": [],
   "source": [
    "function coeff_Taylor_Log(i)\n",
    "x=Sym(\"x\"); #voy a declarar simbólicas las variables x y h\n",
    "h=Sym(\"h\");\n",
    "N(subs(diff(log(x+1.0),x,i)/factorial(Float64(i)),x=>0))\n",
    "end;\n",
    "\n",
    "function coeff_Taylor_asinh_rational(i)\n",
    "    x=Sym(\"x\");\n",
    "    h=Sym(\"h\");\n",
    "    subs(diff(asinh(x/2),x,i)/factorial(i),x=>0) \n",
    "end;\n",
    "\n",
    "function finite_difference_forward(f) #Con eto podemos fredefinir mejor deriv simetrica\n",
    "    return (x,h)->f(x+h,h)-f(x-h,h)\n",
    "end;"
   ]
  },
  {
   "cell_type": "code",
   "execution_count": 6,
   "metadata": {
    "collapsed": true
   },
   "outputs": [],
   "source": [
    "function Derivative_order(f,x,h,order)\n",
    "    g(x,h)=f(x)\n",
    "    der=0\n",
    "    for i in range(1,order)\n",
    "        g=finite_difference_forward(g)\n",
    "        der=der+coeff_Taylor_asinh(i)*g(x,h)\n",
    "    end\n",
    "    der/h\n",
    "end;\n",
    "function Derivative_order_rational_coefficients(f,x,h,order)\n",
    "    g(x,h)=f(x)\n",
    "    der=0\n",
    "    for i in range(1,order)\n",
    "        g=finite_difference_forward(g)\n",
    "        der=der+coeff_Taylor_asinh_rational(i)*g(x,h)\n",
    "    end\n",
    "    der/h\n",
    "end;"
   ]
  },
  {
   "cell_type": "code",
   "execution_count": 7,
   "metadata": {
    "collapsed": false
   },
   "outputs": [
    {
     "data": {
      "text/latex": [
       "$$\\frac{1}{h} \\left(- \\frac{1}{2} f{\\left (- h + x \\right )} + \\frac{1}{2} f{\\left (h + x \\right )}\\right)$$"
      ],
      "text/plain": [
       "  f(-h + x)   f(h + x)\n",
       "- --------- + --------\n",
       "      2          2    \n",
       "----------------------\n",
       "          h           "
      ]
     },
     "execution_count": 7,
     "metadata": {},
     "output_type": "execute_result"
    }
   ],
   "source": [
    "a=Derivative_order_rational_coefficients(SymFunction(\"f\"),Sym(\"x\"),Sym(\"h\"),2)# Vamos a obtener la der simetrica"
   ]
  },
  {
   "cell_type": "code",
   "execution_count": 8,
   "metadata": {
    "collapsed": false
   },
   "outputs": [
    {
     "data": {
      "text/latex": [
       "$$\\left. \\frac{d}{d \\xi_{1}} f{\\left (\\xi_{1} \\right )} \\right|_{\\substack{ \\xi_{1}=x }} + \\frac{h^{2}}{6} \\left. \\frac{d^{3}}{d \\xi_{1}^{3}}  f{\\left (\\xi_{1} \\right )} \\right|_{\\substack{ \\xi_{1}=x }} + \\frac{h^{4}}{120} \\left. \\frac{d^{5}}{d \\xi_{1}^{5}}  f{\\left (\\xi_{1} \\right )} \\right|_{\\substack{ \\xi_{1}=x }} + \\mathcal{O}\\left(h^{5}\\right)$$"
      ],
      "text/plain": [
       "                             /   3           \\|            /   5           \\| \n",
       "                           2 |  d            ||          4 |  d            || \n",
       "                          h *|------(f(xi_1))||         h *|------(f(xi_1))|| \n",
       "                             |     3         ||            |     5         || \n",
       "/  d           \\|            \\dxi_1          /|xi_1=x      \\dxi_1          /|x\n",
       "|-----(f(xi_1))||       + --------------------------- + ----------------------\n",
       "\\dxi_1         /|xi_1=x                6                            120       \n",
       "\n",
       "             \n",
       "             \n",
       "             \n",
       "             \n",
       "i_1=x    / 5\\\n",
       "----- + O\\h /\n",
       "             "
      ]
     },
     "execution_count": 8,
     "metadata": {},
     "output_type": "execute_result"
    }
   ],
   "source": [
    "series(a,Sym(\"h\"),0,5) "
   ]
  },
  {
   "cell_type": "code",
   "execution_count": 9,
   "metadata": {
    "collapsed": false
   },
   "outputs": [
    {
     "data": {
      "text/latex": [
       "$$\\frac{1}{h} \\left(- \\frac{3}{1280} f{\\left (- 5 h + x \\right )} + \\frac{25}{768} f{\\left (- 3 h + x \\right )} - \\frac{75}{128} f{\\left (- h + x \\right )} + \\frac{75}{128} f{\\left (h + x \\right )} - \\frac{25}{768} f{\\left (3 h + x \\right )} + \\frac{3}{1280} f{\\left (5 h + x \\right )}\\right)$$"
      ],
      "text/plain": [
       "  3*f(-5*h + x)   25*f(-3*h + x)   75*f(-h + x)   75*f(h + x)   25*f(3*h + x) \n",
       "- ------------- + -------------- - ------------ + ----------- - ------------- \n",
       "       1280            768             128            128            768      \n",
       "------------------------------------------------------------------------------\n",
       "                                             h                                \n",
       "\n",
       "  3*f(5*h + x)\n",
       "+ ------------\n",
       "      1280    \n",
       "--------------\n",
       "              "
      ]
     },
     "execution_count": 9,
     "metadata": {},
     "output_type": "execute_result"
    }
   ],
   "source": [
    "ap=Derivative_order_rational_coefficients(SymFunction(\"f\"),Sym(\"x\"),Sym(\"h\"),5) # aqui speramos ver una aproximacion a la solucion"
   ]
  },
  {
   "cell_type": "code",
   "execution_count": 10,
   "metadata": {
    "collapsed": false
   },
   "outputs": [
    {
     "data": {
      "text/latex": [
       "$$\\left. \\frac{d}{d \\xi_{1}} f{\\left (\\xi_{1} \\right )} \\right|_{\\substack{ \\xi_{1}=x }} + \\mathcal{O}\\left(h^{6}\\right)$$"
      ],
      "text/plain": [
       "/  d           \\|          / 6\\\n",
       "|-----(f(xi_1))||       + O\\h /\n",
       "\\dxi_1         /|xi_1=x        "
      ]
     },
     "execution_count": 10,
     "metadata": {},
     "output_type": "execute_result"
    }
   ],
   "source": [
    "series(ap,Sym(\"h\"),0,6) #al parecer la derivada se aproxima más rápido a esta (la solucion)"
   ]
  },
  {
   "cell_type": "code",
   "execution_count": 12,
   "metadata": {
    "collapsed": false
   },
   "outputs": [
    {
     "data": {
      "text/latex": [
       "$$-0.80684536022267$$"
      ],
      "text/plain": [
       "-0.806845360222670"
      ]
     },
     "execution_count": 12,
     "metadata": {},
     "output_type": "execute_result"
    }
   ],
   "source": [
    "a=Derivative_order_rational_coefficients(cos,1,0.5,2)# Vamos a obtener la der simetrica"
   ]
  },
  {
   "cell_type": "code",
   "execution_count": 13,
   "metadata": {
    "collapsed": false
   },
   "outputs": [
    {
     "data": {
      "text/latex": [
       "$$-0.80684536022267$$"
      ],
      "text/plain": [
       "-0.806845360222670"
      ]
     },
     "execution_count": 13,
     "metadata": {},
     "output_type": "execute_result"
    }
   ],
   "source": [
    "series(a,0.5,0,5) "
   ]
  },
  {
   "cell_type": "code",
   "execution_count": 14,
   "metadata": {
    "collapsed": false
   },
   "outputs": [
    {
     "data": {
      "text/latex": [
       "$$-0.84095105902186$$"
      ],
      "text/plain": [
       "-0.840951059021860"
      ]
     },
     "execution_count": 14,
     "metadata": {},
     "output_type": "execute_result"
    }
   ],
   "source": [
    "ap=Derivative_order_rational_coefficients(cos,1,0.5,5)"
   ]
  },
  {
   "cell_type": "code",
   "execution_count": 15,
   "metadata": {
    "collapsed": false
   },
   "outputs": [
    {
     "data": {
      "text/latex": [
       "$$-0.84095105902186$$"
      ],
      "text/plain": [
       "-0.840951059021860"
      ]
     },
     "execution_count": 15,
     "metadata": {},
     "output_type": "execute_result"
    }
   ],
   "source": [
    "series(ap,0.5,0,6)"
   ]
  },
  {
   "cell_type": "code",
   "execution_count": 24,
   "metadata": {
    "collapsed": false
   },
   "outputs": [
    {
     "data": {
      "text/plain": [
       "comparacionconhdada (generic function with 1 method)"
      ]
     },
     "execution_count": 24,
     "metadata": {},
     "output_type": "execute_result"
    }
   ],
   "source": [
    "function comparacionconhdada(conjunto,f,h) #es una funcion para comparar como tienden nuestras funciones a nuestro valor real con una h fija dada\n",
    "    r=rand(conjunto) #r es un punto aleatorio del conjunto declarado como conjunto\n",
    "    real=f'(r) #me va a dar el valor real de nuestra funcion en un punto r\n",
    "    a=Derivative_order_rational_coefficients(f,r,h,2) #nos da nuestra aprox por derivada simetrica\n",
    "    ap=Derivative_order_rational_coefficients(f,r,h,5) #nos da nuestra aprox de orden 5\n",
    "    println(\" la derivada real es \",real,\" la aprox por derivada simetrica es: \",a,\" y una aprox de orden 5 es: \",ap)\n",
    "end"
   ]
  },
  {
   "cell_type": "code",
   "execution_count": 25,
   "metadata": {
    "collapsed": false
   },
   "outputs": [
    {
     "data": {
      "text/plain": [
       "0.0:1.0e-7:1.0"
      ]
     },
     "execution_count": 25,
     "metadata": {},
     "output_type": "execute_result"
    }
   ],
   "source": [
    "conjunto=linspace(0,1,10000001)"
   ]
  },
  {
   "cell_type": "code",
   "execution_count": 26,
   "metadata": {
    "collapsed": false
   },
   "outputs": [
    {
     "name": "stdout",
     "output_type": "stream",
     "text": [
      " la derivada real es -0.5365885170822856 la aprox por derivada simetrica es: -0.536588516952818 y una aprox de orden 5 es: -0.536588516986356\n"
     ]
    }
   ],
   "source": [
    "comparacionconhdada(conjunto,cos,0.0000001)"
   ]
  },
  {
   "cell_type": "code",
   "execution_count": 37,
   "metadata": {
    "collapsed": false
   },
   "outputs": [
    {
     "data": {
      "text/plain": [
       "comparacion (generic function with 1 method)"
      ]
     },
     "execution_count": 37,
     "metadata": {},
     "output_type": "execute_result"
    }
   ],
   "source": [
    "function comparacion(conjunto,f)\n",
    "    r=rand(conjunto)\n",
    "    It=[]\n",
    "    A=[]\n",
    "    Ap=[]\n",
    "    Re=[]\n",
    "    for i in 1:10 #voy a ir variando i y eso ira reduciendo a la menos 2 cada vez mi h.\n",
    "        h=1*(2.0^(-i)) \n",
    "        push!(It,i)\n",
    "        a=Derivative_order_rational_coefficients(f,r,h,2) #nos da nuestra aprox por derivada simetrica con h variable\n",
    "        push!(A,a)\n",
    "        ap=Derivative_order_rational_coefficients(f,r,h,5) #nos da nuestra aprox de orden 5 con h variable\n",
    "        push!(Ap,ap)\n",
    "        real=f'(r) #mi aprox real no va a cambiar porque r no cambia pero es para mostrar como tienden nuestras aproximaciones al valor real\n",
    "        push!(Re,real)\n",
    "    end\n",
    "    scatter(It,A,color=\"pink\")\n",
    "    scatter(It,Ap,color=\"red\")\n",
    "    plot(It,Re,color=\"silver\")\n",
    "    println(\"la derivada real es: \",real )\n",
    "end"
   ]
  },
  {
   "cell_type": "code",
   "execution_count": 38,
   "metadata": {
    "collapsed": true
   },
   "outputs": [],
   "source": [
    "using PyPlot"
   ]
  },
  {
   "cell_type": "code",
   "execution_count": 39,
   "metadata": {
    "collapsed": false
   },
   "outputs": [
    {
     "data": {
      "image/png": "[encoded data removed]",
      "text/plain": [
       "PyPlot.Figure(PyObject <matplotlib.figure.Figure object at 0x7f0cb8d42b50>)"
      ]
     },
     "metadata": {},
     "output_type": "display_data"
    },
    {
     "name": "stdout",
     "output_type": "stream",
     "text": [
      "la derivada real es: real\n"
     ]
    }
   ],
   "source": [
    "comparacion(conjunto,cos)"
   ]
  },
  {
   "cell_type": "code",
   "execution_count": null,
   "metadata": {
    "collapsed": true
   },
   "outputs": [],
   "source": []
  }
 ],
 "metadata": {
  "kernelspec": {
   "display_name": "Julia 0.6.0",
   "language": "julia",
   "name": "julia-0.6"
  },
  "language_info": {
   "file_extension": ".jl",
   "mimetype": "application/julia",
   "name": "julia",
   "version": "0.6.0"
  }
 },
 "nbformat": 4,
 "nbformat_minor": 2
}
