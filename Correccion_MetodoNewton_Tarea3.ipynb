{
 "cells": [
  {
   "cell_type": "code",
   "execution_count": null,
   "metadata": {
    "collapsed": false
   },
   "outputs": [
    {
     "data": {
      "text/plain": [
       "raices (generic function with 1 method)"
      ]
     },
     "execution_count": 1,
     "metadata": {},
     "output_type": "execute_result"
    }
   ],
   "source": [
    "function raices(x0,w1)\n",
    "    \n",
    "    \n",
    "    f(x) = (x)*tan(x) - (x0-x^(2)+ 0*im)^(1/2)\n",
    "    Df(x) = tan(x) + x*(sec(x))^2 + (x0 - x^(2) + 0*im)^(-1/2)\n",
    "    Er = 10\n",
    "    while Er > 0.0001\n",
    "        w2 = w1 - (f(w1)/Df(w1))\n",
    "        Er = abs(w2-w1)\n",
    "        w1 = w2\n",
    "            end\n",
    "    w1\n",
    "end"
   ]
  },
  {
   "cell_type": "code",
   "execution_count": null,
   "metadata": {
    "collapsed": false
   },
   "outputs": [],
   "source": [
    "raices(10,2)"
   ]
  },
  {
   "cell_type": "code",
   "execution_count": null,
   "metadata": {
    "collapsed": false
   },
   "outputs": [],
   "source": [
    "function g(x,x0)\n",
    "   w = (x)*tan(x) - (x0-x^(2)+ 0*im)^(1/2)\n",
    "   return w\n",
    "end"
   ]
  },
  {
   "cell_type": "code",
   "execution_count": null,
   "metadata": {
    "collapsed": false
   },
   "outputs": [],
   "source": [
    "g(1.186260825427441 + 0.0im,10)"
   ]
  },
  {
   "cell_type": "code",
   "execution_count": null,
   "metadata": {
    "collapsed": true
   },
   "outputs": [],
   "source": []
  }
 ],
 "metadata": {
  "kernelspec": {
   "display_name": "Julia 0.6.0",
   "language": "julia",
   "name": "julia-0.6"
  },
  "language_info": {
   "file_extension": ".jl",
   "mimetype": "application/julia",
   "name": "julia",
   "version": "0.6.0"
  }
 },
 "nbformat": 4,
 "nbformat_minor": 2
}
