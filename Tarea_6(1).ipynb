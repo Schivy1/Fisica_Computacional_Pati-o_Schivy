{
 "cells": [
  {
   "cell_type": "markdown",
   "metadata": {},
   "source": [
    "# Método de Riemann\n",
    "\n",
    "Este método consiste en tomar un intervalo [a , b] del dominio de una función f y generar particiones de este intervalo, es decir, sea f: [a , b] -> R  una función acotada, entonces podemos aproximar el área bajo la curva  generada por esta función por medio de rectángulos, sea xk un elemento del intervalo [a , b], donde a < xk < b, y sea t1 elemento del intervalo [a , xk] y t2 elemento de [xk , b], podemos hacer una primera aproximación con dos rectángulos uno de base (xk – a) y altura f(t1) y un segundo rectángulo de base (b – xk) y altura f(t2), esto nos daría una primera aproximación al área bajo la curva de f, donde:\n",
    "\n",
    "                    A = f(t1)(xk – a) + f(t2)(b – xk)\n",
    "                \n",
    "Es natural pensar que entre mayor número de particiones sean mejor será la aproximación, por lo tanto podemos construir un número finito de particiones.\n",
    "\n",
    "Sea {x0, x1 , ….. , xn}, donde a = x0 < x1 < x2 < …..< xk < ……< xn = b y sea tk elemento de [xk-1 , xk] para toda k= 1, …., n. Entonces podemos generar un rectángulo para cada sub intervalo de base (xk  - x(k-1)) y altura f(tk), entonces tenemos que:\n",
    "               A = f(t1)(x1-a) +...+ f(tk)(xk  - x(k-1)) +…+f(tn)(b-x(n-1)) = ∑ f(tk)(xk  - x(k-1)), desde k = 1 hasta k = n\n",
    "\n",
    "En el límite cuando n -> ∞ A = ∫f(x)dx integrando desde a hasta b"
   ]
  },
  {
   "cell_type": "code",
   "execution_count": 7,
   "metadata": {
    "collapsed": false
   },
   "outputs": [
    {
     "data": {
      "text/plain": [
       "riemann (generic function with 1 method)"
      ]
     },
     "execution_count": 7,
     "metadata": {},
     "output_type": "execute_result"
    }
   ],
   "source": [
    "function riemann(f::Function,a,b,N)\n",
    "    x=linspace(a,b,N)\n",
    "    g=0\n",
    "    for i in 2:N\n",
    "        dx=x[i]-x[i-1]\n",
    "        h=f(x[i-1])\n",
    "        g=(h*dx)+g\n",
    "    end\n",
    "    return g\n",
    "end\n"
   ]
  },
  {
   "cell_type": "code",
   "execution_count": 19,
   "metadata": {
    "collapsed": false
   },
   "outputs": [
    {
     "data": {
      "text/plain": [
       "f (generic function with 1 method)"
      ]
     },
     "execution_count": 19,
     "metadata": {},
     "output_type": "execute_result"
    }
   ],
   "source": [
    "f(x)= cos(x)"
   ]
  },
  {
   "cell_type": "code",
   "execution_count": 54,
   "metadata": {
    "collapsed": false
   },
   "outputs": [
    {
     "data": {
      "text/plain": [
       "1.0000785456145262"
      ]
     },
     "execution_count": 54,
     "metadata": {},
     "output_type": "execute_result"
    }
   ],
   "source": [
    "riemann(f,0,pi/2,10000)"
   ]
  },
  {
   "cell_type": "markdown",
   "metadata": {},
   "source": [
    "# Regla del trapecio \n",
    "\n",
    "La regla del trapecio es muy similar al método de Riemann la diferencia es que en lugar de utilizar rectángulos se utilizan trapecios, el método consiste en:\n",
    "\n",
    "Se traza una recta entre los puntos (a , f(a)) y (b, f(b)) y se calcula el área de este trapecio de base menor (b-a) y base mayor (f(a) – f(b)), al igual que en el método anterior entre mayor sea el número de particiones mejor será la aproximación si partimos el int. [a, b] en n sub intervalos de ancho h = (b – a)/2 podemos ver que:\n",
    "\n",
    "La integral de a hasta b de f(x) es: ∫〖f(x)dx 〗≈h/2[f(a)+2f(a+h)+2f(a+2h)+⋯+f(b)] \n",
    "\n",
    "Con un error aproximado Er = - ((b-a)3/12n2)f’’(α), con α un elemento de [a, b]."
   ]
  },
  {
   "cell_type": "code",
   "execution_count": 46,
   "metadata": {
    "collapsed": false
   },
   "outputs": [
    {
     "data": {
      "text/plain": [
       "trapecios (generic function with 1 method)"
      ]
     },
     "execution_count": 46,
     "metadata": {},
     "output_type": "execute_result"
    }
   ],
   "source": [
    "function trapecios(f::Function,a,b,N)\n",
    "    x=linspace(a,b,N)\n",
    "    h=0\n",
    "    for i in 2:N\n",
    "        dx=x[i]-x[i-1]\n",
    "        g=(f(x[i-1])+f(x[i]))/2\n",
    "        h=(g*dx)+h\n",
    "    end\n",
    "    return h\n",
    "end\n"
   ]
  },
  {
   "cell_type": "code",
   "execution_count": 62,
   "metadata": {
    "collapsed": false
   },
   "outputs": [
    {
     "data": {
      "text/plain": [
       "0.999999997943423"
      ]
     },
     "execution_count": 62,
     "metadata": {},
     "output_type": "execute_result"
    }
   ],
   "source": [
    "trapecios(f,0,pi/2,10000)"
   ]
  },
  {
   "cell_type": "markdown",
   "metadata": {},
   "source": [
    "# Regla de Simpson de orden 2\n",
    "\n",
    "Este método interpola una función con un polinomio de Lagrange de orden 2, Sea f : [a, b] -> R y sea x1 un elemento de [a , b], entonces podemos ver a I = ∫f(x)dx  de a hasta b como la siguiente integral:\n",
    "\n",
    "        I= ∫〖[(x-x1)(x-b)/(a-x1)(a-b) 〗 f(a)+(x-a)(x-b)/(x1-a)(x1-b)  f(x1)+(x-x1)(x-a)/(b-a)(b-x1)  f(x1)]dx\n",
    "\n",
    "Integrando desde a hasta b:\n",
    "\n",
    "            I≅h/6[f(a)+4f(x1)+f(b)] , con h =(b – a) y x1 = (a+b)/2"
   ]
  },
  {
   "cell_type": "code",
   "execution_count": 60,
   "metadata": {
    "collapsed": false
   },
   "outputs": [
    {
     "data": {
      "text/plain": [
       "simpson (generic function with 3 methods)"
      ]
     },
     "execution_count": 60,
     "metadata": {},
     "output_type": "execute_result"
    }
   ],
   "source": [
    "function simpson(f::Function,a,b)\n",
    "    h=(b-a)/6\n",
    "    x1 = (a+b)/2\n",
    "    I=(h)*(f(a)+f(b)+(4*f(x1)))\n",
    "    return I\n",
    "    \n",
    "end"
   ]
  },
  {
   "cell_type": "code",
   "execution_count": 61,
   "metadata": {
    "collapsed": false
   },
   "outputs": [
    {
     "data": {
      "text/plain": [
       "1.0022798774922104"
      ]
     },
     "execution_count": 61,
     "metadata": {},
     "output_type": "execute_result"
    }
   ],
   "source": [
    "simpson(f,0,pi/2)"
   ]
  },
  {
   "cell_type": "markdown",
   "metadata": {},
   "source": [
    "# Test\n",
    "\n",
    "Para probar las funciones se utilizó la funcion coseno, sabemos que la integral del coseno desde 0 a pi/2 es igual a 1, y como podemos ver en los resultados son números mui cercanos al cero.\n",
    "\n",
    "riemann(cos(x),0,pi/2,10000) = 1.0000785456145262\n",
    "\n",
    "trapecios(cos(x),0,pi/2,10000) = 0.999999997943423\n",
    "\n",
    "simpson(f,0,pi/2) = 1.0022798774922104"
   ]
  },
  {
   "cell_type": "code",
   "execution_count": null,
   "metadata": {
    "collapsed": true
   },
   "outputs": [],
   "source": []
  }
 ],
 "metadata": {
  "kernelspec": {
   "display_name": "Julia 0.6.0",
   "language": "julia",
   "name": "julia-0.6"
  },
  "language_info": {
   "file_extension": ".jl",
   "mimetype": "application/julia",
   "name": "julia",
   "version": "0.6.0"
  }
 },
 "nbformat": 4,
 "nbformat_minor": 2
}
