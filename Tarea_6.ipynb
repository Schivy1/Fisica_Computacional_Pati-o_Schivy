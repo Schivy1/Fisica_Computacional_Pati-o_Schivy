{
 "cells": [
  {
   "cell_type": "markdown",
   "metadata": {},
   "source": [
    "# Método de Riemann\n",
    "\n",
    "Este método consiste en tomar un intervalo [a , b] del dominio de una función f y generar particiones de este intervalo, es decir, sea f: [a , b] -> R  una función acotada, entonces podemos aproximar el área bajo la curva  generada por esta función por medio de rectángulos, sea xk un elemento del intervalo [a , b], donde a < xk < b, y sea t1 elemento del intervalo [a , xk] y t2 elemento de [xk , b], podemos hacer una primera aproximación con dos rectángulos uno de base (xk – a) y altura f(t1) y un segundo rectángulo de base (b – xk) y altura f(t2), esto nos daría una primera aproximación al área bajo la curva de f, donde:\n",
    "\n",
    "                    A = f(t1)(xk – a) + f(t2)(b – xk)\n",
    "                \n",
    "Es natural pensar que entre mayor número de particiones sean mejor será la aproximación, por lo tanto podemos construir un número finito de particiones.\n",
    "\n",
    "Sea {x0, x1 , ….. , xn}, donde a = x0 < x1 < x2 < …..< xk < ……< xn = b y sea tk elemento de [xk-1 , xk] para toda k= 1, …., n. Entonces podemos generar un rectángulo para cada sub intervalo de base (xk  - x(k-1)) y altura f(tk), entonces tenemos que:\n",
    "               A = f(t1)(x1-a) +...+ f(tk)(xk  - x(k-1)) +…+f(tn)(b-x(n-1)) = ∑ f(tk)(xk  - x(k-1)), desde k = 1 hasta k = n\n",
    "\n",
    "En el límite cuando n -> ∞ A = ∫f(x)dx integrando desde a hasta b"
   ]
  },
  {
   "cell_type": "code",
   "execution_count": 7,
   "metadata": {
    "collapsed": false
   },
   "outputs": [
    {
     "data": {
      "text/plain": [
       "riemann (generic function with 1 method)"
      ]
     },
     "execution_count": 7,
     "metadata": {},
     "output_type": "execute_result"
    }
   ],
   "source": [
    "function riemann(f::Function,a,b,N)\n",
    "    x=linspace(a,b,N)\n",
    "    g=0\n",
    "    for i in 2:N\n",
    "        dx=x[i]-x[i-1]\n",
    "        h=f(x[i-1])\n",
    "        g=(h*dx)+g\n",
    "    end\n",
    "    return g\n",
    "end\n"
   ]
  },
  {
   "cell_type": "code",
   "execution_count": 19,
   "metadata": {
    "collapsed": false
   },
   "outputs": [
    {
     "data": {
      "text/plain": [
       "f (generic function with 1 method)"
      ]
     },
     "execution_count": 19,
     "metadata": {},
     "output_type": "execute_result"
    }
   ],
   "source": [
    "f(x)= cos(x)"
   ]
  },
  {
   "cell_type": "code",
   "execution_count": 44,
   "metadata": {
    "collapsed": false
   },
   "outputs": [
    {
     "data": {
      "text/plain": [
       "-2.636779683484747e-16"
      ]
     },
     "execution_count": 44,
     "metadata": {},
     "output_type": "execute_result"
    }
   ],
   "source": [
    "riemann(f,0,2*pi,101)"
   ]
  },
  {
   "cell_type": "markdown",
   "metadata": {},
   "source": [
    "# Regla del trapecio \n",
    "\n",
    "La regla del trapecio es muy similar al método de Riemann la diferencia es que en lugar de utilizar rectángulos se utilizan trapecios, el método consiste en:\n",
    "\n",
    "Se traza una recta entre los puntos (a , f(a)) y (b, f(b)) y se calcula el área de este trapecio de base menor (b-a) y base mayor (f(a) – f(b)), al igual que en el método anterior entre mayor sea el número de particiones mejor será la aproximación si partimos el int. [a, b] en n sub intervalos de ancho h = (b – a)/2 podemos ver que:\n",
    "\n",
    "La integral de a hasta b de f(x) es: ∫〖f(x)dx 〗≈h/2[f(a)+2f(a+h)+2f(a+2h)+⋯+f(b)] \n",
    "\n",
    "Con un error aproximado Er = - ((b-a)3/12n2)f’’(α), con α un elemento de [a, b]."
   ]
  },
  {
   "cell_type": "code",
   "execution_count": 45,
   "metadata": {
    "collapsed": false
   },
   "outputs": [
    {
     "data": {
      "text/plain": [
       "trapecios (generic function with 1 method)"
      ]
     },
     "execution_count": 45,
     "metadata": {},
     "output_type": "execute_result"
    }
   ],
   "source": [
    "function trapecios(f::Function,a,b,N)\n",
    "    x=linspace(a,b,N)\n",
    "    h=0\n",
    "    for i in 2:N\n",
    "        dx=x[i]-x[i-1]\n",
    "        g1=f(x[i-1])+f(x[i])\n",
    "        g=((g1)/2)\n",
    "        h=(g*dx)+h\n",
    "    end\n",
    "    return h\n",
    "end\n"
   ]
  },
  {
   "cell_type": "code",
   "execution_count": 41,
   "metadata": {
    "collapsed": false
   },
   "outputs": [
    {
     "data": {
      "text/plain": [
       "-9.020562075079397e-17"
      ]
     },
     "execution_count": 41,
     "metadata": {},
     "output_type": "execute_result"
    }
   ],
   "source": [
    "trapecios(f,0,pi,101)"
   ]
  },
  {
   "cell_type": "markdown",
   "metadata": {},
   "source": [
    "# Regla de Simpson de orden 2\n",
    "\n",
    "Este método interpola una función con un polinomio de Lagrange de orden 2, Sea f : [a, b] -> R y sea x1 un elemento de [a , b], entonces podemos ver a I = ∫f(x)dx  de a hasta b como la siguiente integral:\n",
    "\n",
    "        I= ∫〖[(x-x1)(x-b)/(a-x1)(a-b) 〗 f(a)+(x-a)(x-b)/(x1-a)(x1-b)  f(x1)+(x-x1)(x-a)/(b-a)(b-x1)  f(x1)]dx\n",
    "\n",
    "Integrando desde a hasta b:\n",
    "\n",
    "            I≅h/6[f(a)+4f(x1)+f(b)] , con h =(b – a) y x1 = (a+b)/2"
   ]
  },
  {
   "cell_type": "code",
   "execution_count": 36,
   "metadata": {
    "collapsed": false
   },
   "outputs": [
    {
     "data": {
      "text/plain": [
       "simpson (generic function with 2 methods)"
      ]
     },
     "execution_count": 36,
     "metadata": {},
     "output_type": "execute_result"
    }
   ],
   "source": [
    "function simpson(f::Function,a,b)\n",
    "    h=(b-a)\n",
    "    x1 = (a+b)/2\n",
    "    I=(h/6)*(f(a)+f(b)+(4*f(x1)))\n",
    "    return I\n",
    "    \n",
    "end"
   ]
  },
  {
   "cell_type": "code",
   "execution_count": 40,
   "metadata": {
    "collapsed": false
   },
   "outputs": [
    {
     "data": {
      "text/plain": [
       "1.2824471291478598e-16"
      ]
     },
     "execution_count": 40,
     "metadata": {},
     "output_type": "execute_result"
    }
   ],
   "source": [
    "simpson(f,0,pi)"
   ]
  },
  {
   "cell_type": "markdown",
   "metadata": {},
   "source": [
    "# Test\n",
    "\n",
    "Para probar las funciones se utilizó la funcion coseno, sabemos que la integral del coseno desde 0 a pi o a 2pi es igual a cero, y como podemos ver en los resultados son números mui cercanos al cero.\n",
    "\n",
    "riemann(cos(x),0,2*pi,101) = -2.636779683484747e-16\n",
    "\n",
    "trapecios(cos(x),0,pi,101) = -9.020562075079397e-17\n",
    "\n",
    "simpson(cos(x),0,pi) = 1.2824471291478598e-16"
   ]
  },
  {
   "cell_type": "code",
   "execution_count": null,
   "metadata": {
    "collapsed": true
   },
   "outputs": [],
   "source": []
  }
 ],
 "metadata": {
  "kernelspec": {
   "display_name": "Julia 0.6.0",
   "language": "julia",
   "name": "julia-0.6"
  },
  "language_info": {
   "file_extension": ".jl",
   "mimetype": "application/julia",
   "name": "julia",
   "version": "0.6.0"
  }
 },
 "nbformat": 4,
 "nbformat_minor": 2
}
