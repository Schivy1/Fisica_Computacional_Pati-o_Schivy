{
 "cells": [
  {
   "cell_type": "code",
   "execution_count": 32,
   "metadata": {},
   "outputs": [
    {
     "name": "stderr",
     "output_type": "stream",
     "text": [
      "WARNING: Method definition simpson(Function, Any, Any) in module Main at In[15]:2 overwritten at In[32]:2.\n"
     ]
    },
    {
     "data": {
      "text/plain": [
       "simpson (generic function with 1 method)"
      ]
     },
     "execution_count": 32,
     "metadata": {},
     "output_type": "execute_result"
    }
   ],
   "source": [
    "function simpson(f::Function,a,b)\n",
    "    h=(b-a)\n",
    "    x1 = (a+b)/2\n",
    "    I=(h/6)*(f(a)+f(b)+(4*f(x1)))\n",
    "    return I\n",
    "    \n",
    "end\n"
   ]
  },
  {
   "cell_type": "code",
   "execution_count": 33,
   "metadata": {},
   "outputs": [
    {
     "name": "stderr",
     "output_type": "stream",
     "text": [
      "WARNING: Method definition trapecios(Function, Any, Any, Any) in module Main at In[14]:4 overwritten at In[33]:2.\n"
     ]
    },
    {
     "data": {
      "text/plain": [
       "trapecios (generic function with 1 method)"
      ]
     },
     "execution_count": 33,
     "metadata": {},
     "output_type": "execute_result"
    }
   ],
   "source": [
    "function trapecios(f::Function,a,b,N)\n",
    "    x=linspace(a,b,N)\n",
    "    h=0\n",
    "    for i in 2:N\n",
    "        dx=x[i]-x[i-1]\n",
    "        g1=f(x[i-1])+f(x[i])\n",
    "        g=((g1)/2)\n",
    "        h=(g*dx)+h\n",
    "    end\n",
    "    return h\n",
    "end\n"
   ]
  },
  {
   "cell_type": "code",
   "execution_count": 34,
   "metadata": {},
   "outputs": [
    {
     "name": "stderr",
     "output_type": "stream",
     "text": [
      "WARNING: Method definition riemann(Function, Any, Any, Any) in module Main at In[13]:2 overwritten at In[34]:2.\n"
     ]
    },
    {
     "data": {
      "text/plain": [
       "riemann (generic function with 1 method)"
      ]
     },
     "execution_count": 34,
     "metadata": {},
     "output_type": "execute_result"
    }
   ],
   "source": [
    "function riemann(f::Function,a,b,N)\n",
    "    x=linspace(a,b,N)\n",
    "    g=0\n",
    "    for i in 2:N\n",
    "        dx=x[i]-x[i-1]\n",
    "        h=f(x[i-1])\n",
    "        g=(h*dx)+g\n",
    "    end\n",
    "    return g\n",
    "end"
   ]
  },
  {
   "cell_type": "code",
   "execution_count": 5,
   "metadata": {},
   "outputs": [
    {
     "data": {
      "text/plain": [
       "newtonFunciones (generic function with 1 method)"
      ]
     },
     "execution_count": 5,
     "metadata": {},
     "output_type": "execute_result"
    }
   ],
   "source": [
    "function newtonFunciones(f::Function,df::Function, x0) # Se creo una función que utilice el metodo de Newton pero esta vez la funcion toma funciones, su derivada y una condicion inicial como argumento.\n",
    "w1 = x0    \n",
    "Er = 10\n",
    "        while Er > 0.000001\n",
    "        w2 = w1 - (f(w1)/df(w1))\n",
    "        Er = abs(w2-w1)\n",
    "        w1 = w2\n",
    "            end\n",
    "   println(w1)\n",
    "end\n"
   ]
  },
  {
   "cell_type": "code",
   "execution_count": 6,
   "metadata": {},
   "outputs": [
    {
     "name": "stderr",
     "output_type": "stream",
     "text": [
      "WARNING: Method definition f(Any) in module Main at In[2]:2 overwritten at In[6]:2.\n"
     ]
    },
    {
     "data": {
      "text/plain": [
       "f (generic function with 1 method)"
      ]
     },
     "execution_count": 6,
     "metadata": {},
     "output_type": "execute_result"
    }
   ],
   "source": [
    "function f(x)\n",
    "     a = x^3-x^2-x-1\n",
    "    return a\n",
    "end"
   ]
  },
  {
   "cell_type": "code",
   "execution_count": 7,
   "metadata": {},
   "outputs": [
    {
     "name": "stderr",
     "output_type": "stream",
     "text": [
      "WARNING: Method definition df(Any) in module Main at In[3]:2 overwritten at In[7]:2.\n"
     ]
    },
    {
     "data": {
      "text/plain": [
       "df (generic function with 1 method)"
      ]
     },
     "execution_count": 7,
     "metadata": {},
     "output_type": "execute_result"
    }
   ],
   "source": [
    "function df(x)\n",
    "    b = 3*x^2-2*x-1\n",
    "    return b\n",
    "end"
   ]
  },
  {
   "cell_type": "code",
   "execution_count": 8,
   "metadata": {},
   "outputs": [
    {
     "name": "stdout",
     "output_type": "stream",
     "text": [
      "1.8392867552141636\n"
     ]
    }
   ],
   "source": [
    "newtonFunciones(f,df,1.5)"
   ]
  },
  {
   "cell_type": "code",
   "execution_count": 24,
   "metadata": {},
   "outputs": [
    {
     "data": {
      "text/plain": [
       "metodoNewton (generic function with 1 method)"
      ]
     },
     "execution_count": 24,
     "metadata": {},
     "output_type": "execute_result"
    }
   ],
   "source": [
    "\n",
    "using SymPy\n",
    "function metodoNewton(f,x0) #Se creo una funcion que solo toma como argumentos a la funcion que se desea encontrar la raíz y la condición inicial\n",
    "    x = Sym(\"x\")\n",
    "    Er = 10\n",
    "    w1 = x0\n",
    "    Df = diff(f(x),x)\n",
    "    d = lambdify(Df,[x]) #La funcion lambdify reescribe lo de Sympy para que julia lo entienda\n",
    "        while Er > 0.000001\n",
    "        w2 = w1 - (f(w1)/d(w1))\n",
    "        Er = abs(w2-w1)\n",
    "        w1 = w2\n",
    "            end\n",
    "    return w1\n",
    "end\n",
    "\n"
   ]
  },
  {
   "cell_type": "code",
   "execution_count": 23,
   "metadata": {},
   "outputs": [
    {
     "name": "stderr",
     "output_type": "stream",
     "text": [
      "WARNING: Method definition h(Any) in module Main at In[12]:1 overwritten at In[23]:1.\n"
     ]
    },
    {
     "data": {
      "text/plain": [
       "1.8392867552141612"
      ]
     },
     "execution_count": 23,
     "metadata": {},
     "output_type": "execute_result"
    }
   ],
   "source": [
    "h(x) = x^3-x^2-x-1\n",
    "metodo(h,5)"
   ]
  },
  {
   "cell_type": "code",
   "execution_count": 16,
   "metadata": {},
   "outputs": [
    {
     "data": {
      "text/plain": [
       "DerivadaNumerica (generic function with 1 method)"
      ]
     },
     "execution_count": 16,
     "metadata": {},
     "output_type": "execute_result"
    }
   ],
   "source": [
    "function DerivadaNumerica(f::Function,x,h)\n",
    "    df = (f(x+h) -f(x))/h\n",
    "    return df\n",
    "end"
   ]
  },
  {
   "cell_type": "code",
   "execution_count": 17,
   "metadata": {},
   "outputs": [
    {
     "data": {
      "text/plain": [
       "Euler (generic function with 1 method)"
      ]
     },
     "execution_count": 17,
     "metadata": {},
     "output_type": "execute_result"
    }
   ],
   "source": [
    "function Euler(f,x0,t0,tf,h)\n",
    "    r=[]\n",
    "    s=[]\n",
    "    x = x0\n",
    "    t = t0\n",
    "    while t<=tf\n",
    "        push!(r,x)\n",
    "        push!(s,t)\n",
    "    t = t + h\n",
    "    x = x + h*f(x,t)\n",
    "    end\n",
    "        scatter(s,r,color=\"green\")\n",
    "end"
   ]
  },
  {
   "cell_type": "code",
   "execution_count": 18,
   "metadata": {},
   "outputs": [
    {
     "data": {
      "text/plain": [
       "EulerVc (generic function with 1 method)"
      ]
     },
     "execution_count": 18,
     "metadata": {},
     "output_type": "execute_result"
    }
   ],
   "source": [
    "function EulerVc(f,list,x0)\n",
    "     x = x0\n",
    "     h = list[2]-list[1]\n",
    "     listx=[]\n",
    "     push!(listx,x)\n",
    "     for i in 2:length(list)\n",
    "        t = i*h\n",
    "        x = x + f(x,t)*h\n",
    "        push!(listx,x) \n",
    "     end\n",
    "     return listx\n",
    "end"
   ]
  },
  {
   "cell_type": "code",
   "execution_count": 19,
   "metadata": {},
   "outputs": [
    {
     "data": {
      "text/plain": [
       "eulerimp (generic function with 1 method)"
      ]
     },
     "execution_count": 19,
     "metadata": {},
     "output_type": "execute_result"
    }
   ],
   "source": [
    "function eulerimp(f,x0,t0,tf,h)\n",
    "    r = [] \n",
    "    s = []\n",
    "    t=t0 \n",
    "    x = x0 \n",
    "    while t<tf\n",
    "        push!(r,t)\n",
    "        push!(s,x)\n",
    "        t=t+h\n",
    "        j=f(x,t)\n",
    "        x = x + h*j\n",
    "        \n",
    "    end  \n",
    "        scatter(r,s,color=\"green\",label=\"Solución método de Euler\", s = 10)\n",
    "    legend()\n",
    "    grid()\n",
    "end"
   ]
  },
  {
   "cell_type": "code",
   "execution_count": 20,
   "metadata": {},
   "outputs": [
    {
     "data": {
      "text/plain": [
       "puntoMedio (generic function with 1 method)"
      ]
     },
     "execution_count": 20,
     "metadata": {},
     "output_type": "execute_result"
    }
   ],
   "source": [
    "function puntoMedio(f,x0,t0,h,N)\n",
    "s=[]\n",
    "r=[]\n",
    "x = x0 \n",
    "t = t0\n",
    "        while t<N\n",
    "        push!(s,x)\n",
    "        push!(r,t)\n",
    "        t =t + h\n",
    "        t2 = t + h/2\n",
    "        x = x +h*f(x+(h/2)*f(x,t),t2)\n",
    "    end\n",
    "    te = linspace(0,8,8/h+1)\n",
    "    xe = map(y -> exp(-2.5*y), te) \n",
    "        scatter(r,s,color=\"green\",label=\"Solución método de Euler\", s = 10)\n",
    "    legend()\n",
    "        plot(te,xe,color=\"blue\",label=\"Solución exacta\")\n",
    "    legend()\n",
    "    grid()\n",
    "end"
   ]
  },
  {
   "cell_type": "code",
   "execution_count": 21,
   "metadata": {},
   "outputs": [
    {
     "data": {
      "text/plain": [
       "RungeKutta2D (generic function with 1 method)"
      ]
     },
     "execution_count": 21,
     "metadata": {},
     "output_type": "execute_result"
    }
   ],
   "source": [
    "function RungeKutta2D(f,x0,v0,t0,tf,h)\n",
    "    T=[]\n",
    "    X=[]\n",
    "    V=[]\n",
    "    x=x0\n",
    "    v=v0\n",
    "    t=t0\n",
    "    while t<tf\n",
    "        push!(X,x)\n",
    "        push!(V,v)\n",
    "        push!(T,t)\n",
    "        l1 = h*f(x,v,t)\n",
    "        k1 = h*v\n",
    "        l2 = h*f(x+(k1/2),v+(l1/2),t+(h/2))\n",
    "        k2 = h*(v+(l1/2))\n",
    "        l3 = h*f(x+(k2/2),v+(l2/2),t+(h/2))\n",
    "        k3 = h*(v+(l2/2))\n",
    "        l4 = h*f(x+k3,v+l3,t+h)\n",
    "        k4 = h*(v+l3)\n",
    "        t = t + h\n",
    "        v = v + ((l1+(2*l2)+(2*l3)+l4)/6)\n",
    "        x = x + ((k1+(2*k2)+(2*k2)+k2)/6)\n",
    "    end\n",
    "        subplot(2,1,1)\n",
    "    plot(T, X, color = \"blue\")\n",
    "    legend()\n",
    "    title(\"Gráfica de la función\")\n",
    "    grid()\n",
    "    subplot(2,1,2)\n",
    "    plot(T,V, color=\"red\")\n",
    "    legend()\n",
    "    title(\"Gráfica de la derivada de la función\")\n",
    "    grid() \n",
    "end"
   ]
  },
  {
   "cell_type": "code",
   "execution_count": 30,
   "metadata": {},
   "outputs": [
    {
     "name": "stderr",
     "output_type": "stream",
     "text": [
      "WARNING: replacing module LibreriaSchivy\n"
     ]
    },
    {
     "data": {
      "text/plain": [
       "LibreriaSchivy"
      ]
     },
     "execution_count": 30,
     "metadata": {},
     "output_type": "execute_result"
    }
   ],
   "source": [
    "__precompile__() # Este comando es para que julia precompile el paquete\n",
    "\n",
    "module LibreriaSchivy\n",
    "\n",
    "export simpson, trapecios, riemann\n",
    "\n",
    "\"\"\"La función simpson() es un metodo de integración, el cual solo necesita que definas la función f a integrar y el intervalo [a,b] en el que se quiere integrar.\"\"\"\n",
    "function simpson(f::Function,a,b)\n",
    "    h=(b-a)\n",
    "    x1 = (a+b)/2\n",
    "    I=(h/6)*(f(a)+f(b)+(4*f(x1)))\n",
    "    return I\n",
    "    \n",
    "end\n",
    "\"\"\"La función trapecios() nos ayuda a aproximar la integral de una funcón f en un intervalo [a,b], esta realiza mejores aproximaciónes según en cuantas particiones dividamos nuestro intervalo lo cual esta dado por un numero N.\"\"\" \n",
    "function trapecios(f::Function,a,b,N)\n",
    "    x=linspace(a,b,N)\n",
    "    h=0\n",
    "    for i in 2:N\n",
    "        dx=x[i]-x[i-1]\n",
    "        g1=f(x[i-1])+f(x[i])\n",
    "        g=((g1)/2)\n",
    "        h=(g*dx)+h\n",
    "    end\n",
    "    return h\n",
    "end\n",
    "\"\"\"La función riemann() nos ayuda a aproximar la integral de una funcón f en un intervalo [a,b], esta realiza mejores aproximaciónes según en cuantas particiones dividamos nuestro intervalo lo cual esta dado por un numero N.\"\"\" \n",
    "function riemann(f::Function,a,b,N)\n",
    "    x=linspace(a,b,N)\n",
    "    g=0\n",
    "    for i in 2:N\n",
    "        dx=x[i]-x[i-1]\n",
    "        h=f(x[i-1])\n",
    "        g=(h*dx)+g\n",
    "    end\n",
    "    return g\n",
    "end\n",
    "\"\"\"Esta funcón nos ayuda a encontrar las reices de una función (f(x)=0), tomando como argumentos la función su derivada y una condión inicial.\"\"\"\n",
    "function newtonFunciones(f::Function,df::Function, x0)\n",
    "w1 = x0    \n",
    "Er = 10\n",
    "        while Er > 0.000001\n",
    "        w2 = w1 - (f(w1)/df(w1))\n",
    "        Er = abs(w2-w1)\n",
    "        w1 = w2\n",
    "            end\n",
    "   println(w1)\n",
    "end\n",
    "\"\"\"La función metodoNewton() encuentra las reices de una funcuión en comparación con newtonFunciones esta función calcula la derivada por si misma pero requiere que se utilice SymPy.\"\"\"\n",
    "function metodoNewton(f,x0)\n",
    "    x = Sym(\"x\")\n",
    "    Er = 10\n",
    "    w1 = x0\n",
    "    Df = diff(f(x),x)\n",
    "    d = lambdify(Df,[x]) \n",
    "        while Er > 0.000001\n",
    "        w2 = w1 - (f(w1)/d(w1))\n",
    "        Er = abs(w2-w1)\n",
    "        w1 = w2\n",
    "            end\n",
    "    return w1\n",
    "end\n",
    "\"\"\"La función Euler() toma como argumentos una ecuacuación diferencial f(x,t) y realiza una aproximación a su solución mostranda en una gráfica, esta función toma como argumentos a la EDO f(x,t), las condiciones inicales x0 y t0, una condición de paro tf para ver hasta donde queremos relaizar la aronximación y un campbio de paso h. Si h->0 mejor será la aproximación.\"\"\"\n",
    "function Euler(f,x0,t0,tf,h)\n",
    "    r=[]\n",
    "    s=[]\n",
    "    x = x0\n",
    "    t = t0\n",
    "    while t<=tf\n",
    "        push!(r,x)\n",
    "        push!(s,t)\n",
    "    t = t + h\n",
    "    x = x + h*f(x,t)\n",
    "    end\n",
    "        scatter(s,r,color=\"green\")\n",
    "end\n",
    "\"\"\"El método de euler implícito esta implementado en la funcuión eulerimp() toma como argumentos una ecuacuación diferencial f(x,t) y realiza una aproximación a su solución mostranda en una gráfica, esta función toma como argumentos a la EDO f(x,t), las condiciones inicales x0 y t0, una condición de paro tf para ver hasta donde queremos relaizar la aronximación y un campbio de paso h. Si h->0 mejor será la aproximación.\"\"\"\n",
    "function eulerimp(f,x0,t0,tf,h)\n",
    "    r = [] \n",
    "    s = []\n",
    "    t=t0 \n",
    "    x = x0 \n",
    "    while t<tf\n",
    "        push!(r,t)\n",
    "        push!(s,x)\n",
    "        t=t+h\n",
    "        j=f(x,t)\n",
    "        x = x + h*j\n",
    "        \n",
    "    end  \n",
    "        scatter(r,s,color=\"green\",label=\"Solución método de Euler\", s = 10)\n",
    "    legend()\n",
    "    grid()\n",
    "end\n",
    "\"\"\"La función RungeKutta2D() realiza aproximaciones de EDO de segundo orden e imprime una gráfica con la aproximación, esta función toma como argumentos la la ecuación f(x,v,t), condiciones iniciales x0, v0 y t0 una concicion de paro tf y el tamaño entre cada paso h.\"\"\"\n",
    "function RungeKutta2D(f,x0,v0,t0,tf,h)\n",
    "    T=[]\n",
    "    X=[]\n",
    "    V=[]\n",
    "    x=x0\n",
    "    v=v0\n",
    "    t=t0\n",
    "    while t<tf\n",
    "        push!(X,x)\n",
    "        push!(V,v)\n",
    "        push!(T,t)\n",
    "        l1 = h*f(x,v,t)\n",
    "        k1 = h*v\n",
    "        l2 = h*f(x+(k1/2),v+(l1/2),t+(h/2))\n",
    "        k2 = h*(v+(l1/2))\n",
    "        l3 = h*f(x+(k2/2),v+(l2/2),t+(h/2))\n",
    "        k3 = h*(v+(l2/2))\n",
    "        l4 = h*f(x+k3,v+l3,t+h)\n",
    "        k4 = h*(v+l3)\n",
    "        t = t + h\n",
    "        v = v + ((l1+(2*l2)+(2*l3)+l4)/6)\n",
    "        x = x + ((k1+(2*k2)+(2*k2)+k2)/6)\n",
    "    end\n",
    "        subplot(2,1,1)\n",
    "    plot(T, X, color = \"blue\")\n",
    "    legend()\n",
    "    title(\"Gráfica de la función\")\n",
    "    grid()\n",
    "    subplot(2,1,2)\n",
    "    plot(T,V, color=\"red\")\n",
    "    legend()\n",
    "    title(\"Gráfica de la derivada de la función\")\n",
    "    grid() \n",
    "end\n",
    "end"
   ]
  },
  {
   "cell_type": "code",
   "execution_count": 31,
   "metadata": {},
   "outputs": [
    {
     "data": {
      "text/plain": [
       "313.3503384008435"
      ]
     },
     "execution_count": 31,
     "metadata": {},
     "output_type": "execute_result"
    }
   ],
   "source": [
    "LibreriaSchivy.trapecios(x->x^2-2,0,10,100)"
   ]
  },
  {
   "cell_type": "code",
   "execution_count": null,
   "metadata": {},
   "outputs": [],
   "source": []
  }
 ],
 "metadata": {
  "kernelspec": {
   "display_name": "Julia 0.5.2",
   "language": "julia",
   "name": "julia-0.5"
  },
  "language_info": {
   "file_extension": ".jl",
   "mimetype": "application/julia",
   "name": "julia",
   "version": "0.5.2"
  }
 },
 "nbformat": 4,
 "nbformat_minor": 2
}
