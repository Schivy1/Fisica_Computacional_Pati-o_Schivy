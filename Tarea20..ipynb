{
 "cells": [
  {
   "cell_type": "markdown",
   "metadata": {},
   "source": [
    "## Ejercicio 1"
   ]
  },
  {
   "cell_type": "code",
   "execution_count": 2,
   "metadata": {},
   "outputs": [],
   "source": [
    "using PyPlot"
   ]
  },
  {
   "cell_type": "markdown",
   "metadata": {},
   "source": [
    "Lo primero es generar una matriz que tenga en su diagonal puros -4"
   ]
  },
  {
   "cell_type": "code",
   "execution_count": 6,
   "metadata": {},
   "outputs": [
    {
     "data": {
      "text/plain": [
       "15×15 Array{Float64,2}:\n",
       " -4.0   0.0   0.0   0.0   0.0   0.0  …   0.0   0.0   0.0   0.0   0.0   0.0\n",
       "  0.0  -4.0   0.0   0.0   0.0   0.0      0.0   0.0   0.0   0.0   0.0   0.0\n",
       "  0.0   0.0  -4.0   0.0   0.0   0.0      0.0   0.0   0.0   0.0   0.0   0.0\n",
       "  0.0   0.0   0.0  -4.0   0.0   0.0      0.0   0.0   0.0   0.0   0.0   0.0\n",
       "  0.0   0.0   0.0   0.0  -4.0   0.0      0.0   0.0   0.0   0.0   0.0   0.0\n",
       "  0.0   0.0   0.0   0.0   0.0  -4.0  …   0.0   0.0   0.0   0.0   0.0   0.0\n",
       "  0.0   0.0   0.0   0.0   0.0   0.0      0.0   0.0   0.0   0.0   0.0   0.0\n",
       "  0.0   0.0   0.0   0.0   0.0   0.0      0.0   0.0   0.0   0.0   0.0   0.0\n",
       "  0.0   0.0   0.0   0.0   0.0   0.0      0.0   0.0   0.0   0.0   0.0   0.0\n",
       "  0.0   0.0   0.0   0.0   0.0   0.0     -4.0   0.0   0.0   0.0   0.0   0.0\n",
       "  0.0   0.0   0.0   0.0   0.0   0.0  …   0.0  -4.0   0.0   0.0   0.0   0.0\n",
       "  0.0   0.0   0.0   0.0   0.0   0.0      0.0   0.0  -4.0   0.0   0.0   0.0\n",
       "  0.0   0.0   0.0   0.0   0.0   0.0      0.0   0.0   0.0  -4.0   0.0   0.0\n",
       "  0.0   0.0   0.0   0.0   0.0   0.0      0.0   0.0   0.0   0.0  -4.0   0.0\n",
       "  0.0   0.0   0.0   0.0   0.0   0.0      0.0   0.0   0.0   0.0   0.0  -4.0"
      ]
     },
     "execution_count": 6,
     "metadata": {},
     "output_type": "execute_result"
    }
   ],
   "source": [
    "M = zeros(15,15)\n",
    "for i in 1:15\n",
    "    for j in 1:15\n",
    "        if i== j\n",
    "            M[i,i] = -4\n",
    "        end\n",
    "    end\n",
    "end\n",
    "M"
   ]
  },
  {
   "cell_type": "code",
   "execution_count": 7,
   "metadata": {},
   "outputs": [
    {
     "data": {
      "text/plain": [
       "15-element Array{Float64,1}:\n",
       " -4.0\n",
       " -4.0\n",
       " -4.0\n",
       " -4.0\n",
       " -4.0\n",
       " -4.0\n",
       " -4.0\n",
       " -4.0\n",
       " -4.0\n",
       " -4.0\n",
       " -4.0\n",
       " -4.0\n",
       " -4.0\n",
       " -4.0\n",
       " -4.0"
      ]
     },
     "execution_count": 7,
     "metadata": {},
     "output_type": "execute_result"
    }
   ],
   "source": [
    "diag(M)"
   ]
  },
  {
   "cell_type": "markdown",
   "metadata": {},
   "source": [
    "Ahora necesitamos que todos los elementos arriba y abajo de la diagonal sean 1, asi como los valores que esten localizados a 5 filas o columnas."
   ]
  },
  {
   "cell_type": "code",
   "execution_count": 24,
   "metadata": {},
   "outputs": [
    {
     "data": {
      "text/plain": [
       "0"
      ]
     },
     "execution_count": 24,
     "metadata": {},
     "output_type": "execute_result"
    }
   ],
   "source": [
    "for i in 1:15\n",
    "    for j in 1:15\n",
    "        if i+1 == j\n",
    "            M[i,j]=1\n",
    "            M[j,i]=1\n",
    "          \n",
    "        elseif i +5 == j\n",
    "            M[i,j] = 1\n",
    "            M[j,i]=1\n",
    "           \n",
    "        end\n",
    "    end\n",
    "end\n",
    "M[5,6]=0\n",
    "M[6,5]=0\n",
    "M[11,10]=0\n",
    "M[10,11]=0"
   ]
  },
  {
   "cell_type": "markdown",
   "metadata": {},
   "source": [
    "Ahora generamos $\\vec b$ con las entradas que nos piden."
   ]
  },
  {
   "cell_type": "code",
   "execution_count": 20,
   "metadata": {},
   "outputs": [
    {
     "data": {
      "text/plain": [
       "15-element Array{Float64,1}:\n",
       "   0.0   \n",
       "   0.0   \n",
       "   0.0   \n",
       "   0.0   \n",
       "  70.7107\n",
       "   0.0   \n",
       "   0.0   \n",
       "   0.0   \n",
       "   0.0   \n",
       " 100.0   \n",
       "   0.0   \n",
       "   0.0   \n",
       "   0.0   \n",
       "   0.0   \n",
       "   0.7107"
      ]
     },
     "execution_count": 20,
     "metadata": {},
     "output_type": "execute_result"
    }
   ],
   "source": [
    "b = zeros(15)\n",
    "b[5]= 70.7107\n",
    "b[10] = 100\n",
    "b[15]=0.7107\n",
    "b"
   ]
  },
  {
   "cell_type": "code",
   "execution_count": 25,
   "metadata": {},
   "outputs": [
    {
     "data": {
      "text/plain": [
       "15-element Array{Float64,1}:\n",
       "  1.02225 \n",
       "  2.69452 \n",
       "  6.13259 \n",
       " 13.7675  \n",
       " 31.2062  \n",
       "  1.3945  \n",
       "  3.62322 \n",
       "  8.06834 \n",
       " 17.7311  \n",
       " 40.3468  \n",
       "  0.932509\n",
       "  2.33554 \n",
       "  4.78643 \n",
       "  8.74185 \n",
       " 12.4498  "
      ]
     },
     "execution_count": 25,
     "metadata": {},
     "output_type": "execute_result"
    }
   ],
   "source": [
    "x = -inv(M)*b"
   ]
  },
  {
   "cell_type": "code",
   "execution_count": 26,
   "metadata": {},
   "outputs": [
    {
     "data": {
      "text/plain": [
       "5×3 Array{Float64,2}:\n",
       "  1.02225   1.3945    0.932509\n",
       "  2.69452   3.62322   2.33554 \n",
       "  6.13259   8.06834   4.78643 \n",
       " 13.7675   17.7311    8.74185 \n",
       " 31.2062   40.3468   12.4498  "
      ]
     },
     "execution_count": 26,
     "metadata": {},
     "output_type": "execute_result"
    }
   ],
   "source": [
    "m = reshape(x,(5,3))"
   ]
  },
  {
   "cell_type": "code",
   "execution_count": 27,
   "metadata": {},
   "outputs": [
    {
     "data": {
      "image/png": "[encoded data removed]",
      "text/plain": [
       "PyPlot.Figure(PyObject <matplotlib.figure.Figure object at 0x7f4beab0f550>)"
      ]
     },
     "metadata": {},
     "output_type": "display_data"
    },
    {
     "data": {
      "text/plain": [
       "PyObject <matplotlib.collections.QuadMesh object at 0x7f4bea9c1f90>"
      ]
     },
     "execution_count": 27,
     "metadata": {},
     "output_type": "execute_result"
    }
   ],
   "source": [
    "pcolormesh(m)"
   ]
  },
  {
   "cell_type": "code",
   "execution_count": null,
   "metadata": {},
   "outputs": [],
   "source": []
  }
 ],
 "metadata": {
  "kernelspec": {
   "display_name": "Julia 0.5.2",
   "language": "julia",
   "name": "julia-0.5"
  },
  "language_info": {
   "file_extension": ".jl",
   "mimetype": "application/julia",
   "name": "julia",
   "version": "0.5.2"
  }
 },
 "nbformat": 4,
 "nbformat_minor": 2
}
