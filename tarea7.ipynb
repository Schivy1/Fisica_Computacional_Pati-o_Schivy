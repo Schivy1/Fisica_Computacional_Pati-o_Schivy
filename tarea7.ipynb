{
 "cells": [
  {
   "cell_type": "code",
   "execution_count": 50,
   "metadata": {
    "collapsed": false
   },
   "outputs": [
    {
     "data": {
      "text/plain": [
       "10-element Array{Float64,1}:\n",
       " 0.0     \n",
       " 0.698132\n",
       " 1.39626 \n",
       " 2.0944  \n",
       " 2.79253 \n",
       " 3.49066 \n",
       " 4.18879 \n",
       " 4.88692 \n",
       " 5.58505 \n",
       " 6.28319 "
      ]
     },
     "execution_count": 50,
     "metadata": {},
     "output_type": "execute_result"
    }
   ],
   "source": [
    "x0 = 0 #Se declara un vector x con las particiones del intervalo\n",
    "x1 =(2/9)*pi\n",
    "x2 =(4/9)*pi\n",
    "x3 =(6/9)*pi\n",
    "x4 =(8/9)*pi\n",
    "x5 =(10/9)*pi\n",
    "x6 =(12/9)*pi\n",
    "x7 =(14/9)*pi\n",
    "x8 =(16/9)*pi\n",
    "x9 =(18/9)*pi\n",
    "x = [x0,x1,x2,x3,x4,x5,x6,x7,x8,x9]"
   ]
  },
  {
   "cell_type": "markdown",
   "metadata": {},
   "source": [
    "### Se definieron todos los multiplicadores"
   ]
  },
  {
   "cell_type": "code",
   "execution_count": 13,
   "metadata": {
    "collapsed": false
   },
   "outputs": [
    {
     "data": {
      "text/plain": [
       "l0 (generic function with 1 method)"
      ]
     },
     "execution_count": 13,
     "metadata": {},
     "output_type": "execute_result"
    }
   ],
   "source": [
    "l0(x) = ((x-x1)/(x0-x1))*((x-x2)/(x0-x2))*((x-x3)/(x0-x3))*((x-x4)/(x0-x4))*((x-x5)/(x0-x5))*((x-x6)/(x0-x6))*((x-x7)/(x0-x7))*((x-x8)/(x0-x8))*((x-x9)/(x0-x9))"
   ]
  },
  {
   "cell_type": "code",
   "execution_count": 14,
   "metadata": {
    "collapsed": false
   },
   "outputs": [
    {
     "data": {
      "text/plain": [
       "l1 (generic function with 1 method)"
      ]
     },
     "execution_count": 14,
     "metadata": {},
     "output_type": "execute_result"
    }
   ],
   "source": [
    "l1(x) = ((x-x0)/(x1-x0))*((x-x2)/(x1-x2))*((x-x3)/(x1-x3))*((x-x4)/(x1-x4))*((x-x5)/(x1-x5))*((x-x6)/(x1-x6))*((x-x7)/(x1-x7))*((x-x8)/(x1-x8))*((x-x9)/(x1-x9))"
   ]
  },
  {
   "cell_type": "code",
   "execution_count": 15,
   "metadata": {
    "collapsed": false
   },
   "outputs": [
    {
     "data": {
      "text/plain": [
       "l2 (generic function with 1 method)"
      ]
     },
     "execution_count": 15,
     "metadata": {},
     "output_type": "execute_result"
    }
   ],
   "source": [
    "l2(x)= ((x-x0)/(x2-x0))*((x-x1)/(x2-x1))*((x-x3)/(x2-x3))*((x-x4)/(x2-x4))*((x-x5)/(x2-x5))*((x-x6)/(x2-x6))*((x-x7)/(x2-x7))*((x-x8)/(x2-x8))*((x-x9)/(x2-x9))"
   ]
  },
  {
   "cell_type": "code",
   "execution_count": 16,
   "metadata": {
    "collapsed": false
   },
   "outputs": [
    {
     "data": {
      "text/plain": [
       "l3 (generic function with 1 method)"
      ]
     },
     "execution_count": 16,
     "metadata": {},
     "output_type": "execute_result"
    }
   ],
   "source": [
    "l3(x)= ((x-x0)/(x3-x0))*((x-x1)/(x3-x1))*((x-x2)/(x3-x2))*((x-x4)/(x3-x4))*((x-x5)/(x3-x5))*((x-x6)/(x3-x6))*((x-x7)/(x3-x7))*((x-x8)/(x3-x8))*((x-x9)/(x3-x9))"
   ]
  },
  {
   "cell_type": "code",
   "execution_count": 17,
   "metadata": {
    "collapsed": false
   },
   "outputs": [
    {
     "data": {
      "text/plain": [
       "l4 (generic function with 1 method)"
      ]
     },
     "execution_count": 17,
     "metadata": {},
     "output_type": "execute_result"
    }
   ],
   "source": [
    "l4(x)= ((x-x0)/(x4-x0))*((x-x1)/(x4-x1))*((x-x2)/(x4-x2))*((x-x3)/(x4-x3))*((x-x5)/(x4-x5))*((x-x6)/(x4-x6))*((x-x7)/(x4-x7))*((x-x8)/(x4-x8))*((x-x9)/(x4-x9))"
   ]
  },
  {
   "cell_type": "code",
   "execution_count": 18,
   "metadata": {
    "collapsed": false
   },
   "outputs": [
    {
     "data": {
      "text/plain": [
       "l5 (generic function with 1 method)"
      ]
     },
     "execution_count": 18,
     "metadata": {},
     "output_type": "execute_result"
    }
   ],
   "source": [
    "l5(x)= ((x-x0)/(x5-x0))*((x-x1)/(x5-x1))*((x-x2)/(x5-x2))*((x-x3)/(x5-x3))*((x-x4)/(x5-x4))*((x-x6)/(x5-x6))*((x-x7)/(x5-x7))*((x-x8)/(x5-x8))*((x-x9)/(x5-x9))"
   ]
  },
  {
   "cell_type": "code",
   "execution_count": 19,
   "metadata": {
    "collapsed": false,
    "scrolled": true
   },
   "outputs": [
    {
     "data": {
      "text/plain": [
       "l6 (generic function with 1 method)"
      ]
     },
     "execution_count": 19,
     "metadata": {},
     "output_type": "execute_result"
    }
   ],
   "source": [
    "l6(x)= ((x-x0)/(x6-x0))*((x-x1)/(x6-x1))*((x-x2)/(x6-x2))*((x-x3)/(x6-x3))*((x-x4)/(x6-x4))*((x-x5)/(x6-x5))*((x-x7)/(x6-x7))*((x-x8)/(x6-x8))*((x-x9)/(x6-x9))"
   ]
  },
  {
   "cell_type": "code",
   "execution_count": 20,
   "metadata": {
    "collapsed": false
   },
   "outputs": [
    {
     "data": {
      "text/plain": [
       "l7 (generic function with 1 method)"
      ]
     },
     "execution_count": 20,
     "metadata": {},
     "output_type": "execute_result"
    }
   ],
   "source": [
    "l7(x)= ((x-x0)/(x7-x0))*((x-x1)/(x7-x1))*((x-x2)/(x7-x2))*((x-x3)/(x7-x3))*((x-x4)/(x7-x4))*((x-x5)/(x7-x5))*((x-x6)/(x7-x6))*((x-x8)/(x7-x8))*((x-x9)/(x7-x9))"
   ]
  },
  {
   "cell_type": "code",
   "execution_count": 21,
   "metadata": {
    "collapsed": false
   },
   "outputs": [
    {
     "data": {
      "text/plain": [
       "l8 (generic function with 1 method)"
      ]
     },
     "execution_count": 21,
     "metadata": {},
     "output_type": "execute_result"
    }
   ],
   "source": [
    "l8(x)= ((x-x0)/(x8-x0))*((x-x1)/(x8-x1))*((x-x2)/(x8-x2))*((x-x3)/(x8-x3))*((x-x4)/(x8-x4))*((x-x5)/(x8-x5))*((x-x6)/(x8-x6))*((x-x7)/(x8-x7))*((x-x9)/(x8-x9))"
   ]
  },
  {
   "cell_type": "code",
   "execution_count": 22,
   "metadata": {
    "collapsed": false
   },
   "outputs": [
    {
     "data": {
      "text/plain": [
       "l9 (generic function with 1 method)"
      ]
     },
     "execution_count": 22,
     "metadata": {},
     "output_type": "execute_result"
    }
   ],
   "source": [
    "l9(x)= ((x-x0)/(x9-x0))*((x-x1)/(x9-x1))*((x-x2)/(x9-x2))*((x-x3)/(x9-x3))*((x-x4)/(x9-x4))*((x-x5)/(x9-x5))*((x-x6)/(x9-x6))*((x-x7)/(x9-x7))*((x-x8)/(x9-x8))"
   ]
  },
  {
   "cell_type": "code",
   "execution_count": 25,
   "metadata": {
    "collapsed": false
   },
   "outputs": [
    {
     "data": {
      "text/plain": [
       "yi (generic function with 1 method)"
      ]
     },
     "execution_count": 25,
     "metadata": {},
     "output_type": "execute_result"
    }
   ],
   "source": [
    "function yi(x) #Esta función genera un arreglo con las entradas de x\n",
    "    y = zeros(1,10)\n",
    "    for i in 1:10\n",
    "        y[i] = cos(x[i])\n",
    "    end\n",
    "    return y\n",
    "end"
   ]
  },
  {
   "cell_type": "code",
   "execution_count": 51,
   "metadata": {
    "collapsed": false
   },
   "outputs": [
    {
     "data": {
      "text/plain": [
       "L (generic function with 2 methods)"
      ]
     },
     "execution_count": 51,
     "metadata": {},
     "output_type": "execute_result"
    }
   ],
   "source": [
    "function L(x,y)# Se define el polinomio de lagrange\n",
    "    r = zeros(1,10)\n",
    "    for i in 1:10\n",
    "    z = x[i]  \n",
    "    r[i] = y[1]*l0(z)+y[2]*l1(z)+y[3]*l2(z)+y[4]*l3(z)+y[5]*l4(z)+y[6]*l5(z)+y[7]*l6(z)+y[8]*l7(z)+y[9]*l8(z)+y[10]*l9(z)\n",
    "    end\n",
    "return r\n",
    "end"
   ]
  },
  {
   "cell_type": "code",
   "execution_count": 52,
   "metadata": {
    "collapsed": false
   },
   "outputs": [
    {
     "data": {
      "text/plain": [
       "1×10 Array{Float64,2}:\n",
       " 1.0  0.766044  0.173648  -0.5  -0.939693  …  -0.5  0.173648  0.766044  1.0"
      ]
     },
     "execution_count": 52,
     "metadata": {},
     "output_type": "execute_result"
    }
   ],
   "source": [
    "y=yi(x)"
   ]
  },
  {
   "cell_type": "code",
   "execution_count": 45,
   "metadata": {
    "collapsed": false
   },
   "outputs": [
    {
     "data": {
      "text/plain": [
       "1×10 Array{Float64,2}:\n",
       " 1.0  0.766044  0.173648  -0.5  -0.939693  …  -0.5  0.173648  0.766044  1.0"
      ]
     },
     "execution_count": 45,
     "metadata": {},
     "output_type": "execute_result"
    }
   ],
   "source": [
    "h = L(x,y) # Podemos ver que la interpolación tine los mismos valores que la función, porlotanto el método realiza muy buenas aproximaciones"
   ]
  },
  {
   "cell_type": "code",
   "execution_count": 47,
   "metadata": {
    "collapsed": false
   },
   "outputs": [
    {
     "data": {
      "text/plain": [
       "y2i (generic function with 1 method)"
      ]
     },
     "execution_count": 47,
     "metadata": {},
     "output_type": "execute_result"
    }
   ],
   "source": [
    "function y2i(x) #se genero una función que genere arreglos con la función de coseno cuadrado\n",
    "    y = zeros(1,10)\n",
    "    for i in 1:10\n",
    "        y[i] = cos(x[i])*cos(x[i])\n",
    "    end\n",
    "    return y\n",
    "end"
   ]
  },
  {
   "cell_type": "code",
   "execution_count": 48,
   "metadata": {
    "collapsed": false
   },
   "outputs": [
    {
     "data": {
      "text/plain": [
       "1×10 Array{Float64,2}:\n",
       " 1.0  0.586824  0.0301537  0.25  0.883022  …  0.25  0.0301537  0.586824  1.0"
      ]
     },
     "execution_count": 48,
     "metadata": {},
     "output_type": "execute_result"
    }
   ],
   "source": [
    "y2=y2i(x)"
   ]
  },
  {
   "cell_type": "code",
   "execution_count": 49,
   "metadata": {
    "collapsed": false,
    "scrolled": true
   },
   "outputs": [
    {
     "data": {
      "text/plain": [
       "1×10 Array{Float64,2}:\n",
       " 1.0  0.586824  0.0301537  0.25  0.883022  …  0.25  0.0301537  0.586824  1.0"
      ]
     },
     "execution_count": 49,
     "metadata": {},
     "output_type": "execute_result"
    }
   ],
   "source": [
    "L(x,y2)"
   ]
  },
  {
   "cell_type": "code",
   "execution_count": null,
   "metadata": {
    "collapsed": true
   },
   "outputs": [],
   "source": []
  }
 ],
 "metadata": {
  "kernelspec": {
   "display_name": "Julia 0.6.0",
   "language": "julia",
   "name": "julia-0.6"
  },
  "language_info": {
   "file_extension": ".jl",
   "mimetype": "application/julia",
   "name": "julia",
   "version": "0.6.0"
  }
 },
 "nbformat": 4,
 "nbformat_minor": 2
}
