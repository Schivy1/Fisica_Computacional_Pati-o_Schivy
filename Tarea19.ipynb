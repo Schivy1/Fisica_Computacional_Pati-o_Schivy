{
 "cells": [
  {
   "cell_type": "markdown",
   "metadata": {},
   "source": [
    "## Ejercicio 1"
   ]
  },
  {
   "cell_type": "markdown",
   "metadata": {},
   "source": [
    "#### Respuesta"
   ]
  },
  {
   "cell_type": "markdown",
   "metadata": {},
   "source": [
    "Veamos como se ve la segunda derivada de cada en trada en las diferencias finitas. $$ \\frac{d^2f}{dx^2} = \\frac{f_{x+h}-2f+f_{x-h}}{h^2} $$ \n",
    "\n",
    "$$ \\frac{d^2f}{dy^2} = \\frac{f_{y+h}-2f+f_{y-h}}{h^2} $$\n",
    "\n",
    "$$ \\frac{d^2f}{dz^2} = \\frac{f_{z+h}-2f+f_{z-h}}{h^2} $$ Sumando tenemos que:\n",
    "$$lap^2 = \\frac{d^2f}{dx^2} + \\frac{d^2f}{dy^2}+\\frac{d^2f}{dz^2} =\\frac{f_{x+h}+f_{x-h}+f_{y+h}+f_{y-h}+f_{z+h}+f_{z-h}-6f}{h^2}$$"
   ]
  },
  {
   "cell_type": "markdown",
   "metadata": {},
   "source": [
    "## Ejercicio 2"
   ]
  },
  {
   "cell_type": "markdown",
   "metadata": {},
   "source": [
    "#### Respuesta"
   ]
  },
  {
   "cell_type": "markdown",
   "metadata": {},
   "source": [
    "Sup. que la segunda derivada de $f$ es cero entonces podemos ver que: $$f(x_{i+1})-2f(x_i)+ f(x_{i-1})=0$$ Como el intervalo esta dividido en 5 particiones, $h=\\frac{1}{4}$ con $x_0=0$ y $x_5=1$.\n",
    "\n",
    "evaluando en los puntos intermedios $x_2$, $x_3$ y $x_4$ tomando en cuenta la ecuación anterior: $$f(x_{3})-2f(x_2)+ f(x_{1})=0$$ $$f(x_{4})-2f(x_3)+ f(x_{2})=0$$ $$f(x_{5})-2f(x_4)+ f(x_{3})=0$$ Pero sabemos que $f(x_1)=a$ y $f(x_5)=b$, entonces: $$f(x_{3})-2f(x_2)+ a=0$$ $$f(x_{4})-2f(x_3)+ f(x_{2})=0$$ $$b-2f(x_4)+ f(x_{3})=0$$ Sumando las tres ecuaciones tenemos: $$b+a-f(x_4)-f(x_{2})=0$$"
   ]
  },
  {
   "cell_type": "markdown",
   "metadata": {},
   "source": [
    "## Ejercicio 3"
   ]
  },
  {
   "cell_type": "markdown",
   "metadata": {},
   "source": [
    "Sabemos que:  $$f(x_{3})-2f(x_2)+ f(x_{1})=0$$ $$f(x_{4})-2f(x_3)+ f(x_{2})=0$$ $$f(x_{5})-2f(x_4)+ f(x_{3})=0$$ Con las condiciones de frontera tenemos: $$\\frac{f(x_2)-f(x_1)}{h}=a$$ por otro lado $$\\frac{f(x_5)-f(x_4)}{h}=b$$ Igualando a cero las ecuaiones $$f(x_5)-f(x_4)-hb=0$$ $$f(x_2)-f(x_1)-ha=0$$ Entonces nos quedamos con:$$f(x_5)-f(x_4)-hb=0$$ $$f(x_2)-f(x_1)-ha=0$$ $$f(x_{3})-2f(x_2)+ f(x_{1})=0$$ $$f(x_{4})-2f(x_3)+ f(x_{2})=0$$ $$f(x_{5})-2f(x_4)+ f(x_{3})=0$$"
   ]
  },
  {
   "cell_type": "markdown",
   "metadata": {},
   "source": [
    "## Ejercicio 4"
   ]
  },
  {
   "cell_type": "code",
   "execution_count": 10,
   "metadata": {},
   "outputs": [
    {
     "name": "stderr",
     "output_type": "stream",
     "text": [
      "WARNING: Method definition f(Any) in module Main at In[8]:2 overwritten at In[10]:2.\n"
     ]
    },
    {
     "data": {
      "text/plain": [
       "f (generic function with 3 methods)"
      ]
     },
     "execution_count": 10,
     "metadata": {},
     "output_type": "execute_result"
    }
   ],
   "source": [
    "function f(n) # n es la dimención de la matriz \n",
    "r = []\n",
    "m = n\n",
    "for i in 1:n\n",
    "    for j in 1:n\n",
    "     k = ((i-1)*m+j)   \n",
    "    push!(r,k)\n",
    "end\n",
    "    end\n",
    "    r\n",
    "end"
   ]
  },
  {
   "cell_type": "code",
   "execution_count": 35,
   "metadata": {},
   "outputs": [
    {
     "data": {
      "text/plain": [
       "(4,)"
      ]
     },
     "execution_count": 35,
     "metadata": {},
     "output_type": "execute_result"
    }
   ],
   "source": [
    "k=f(2)\n",
    "d = size(k)"
   ]
  },
  {
   "cell_type": "markdown",
   "metadata": {},
   "source": [
    "Los anteriores son los valores de los indices k segun las combinaciones de i y j.\n",
    "\n",
    "\n",
    "De la deducción analitica sabemos que $i=\\frac{k}{m}$ y que $j=k-(i-1)m$"
   ]
  },
  {
   "cell_type": "code",
   "execution_count": 41,
   "metadata": {},
   "outputs": [
    {
     "name": "stderr",
     "output_type": "stream",
     "text": [
      "WARNING: Method definition invf(Any, Any) in module Main at In[36]:2 overwritten at In[41]:2.\n"
     ]
    },
    {
     "data": {
      "text/plain": [
       "invf (generic function with 2 methods)"
      ]
     },
     "execution_count": 41,
     "metadata": {},
     "output_type": "execute_result"
    }
   ],
   "source": [
    "function invf(k,n)\n",
    "m=n\n",
    "d = length(g)\n",
    "i = []\n",
    "j = []\n",
    "    for h in 1:d\n",
    "            r = k[h]/m\n",
    "            s = k[h]-((k/m)-1)*m\n",
    "            push!(i,r)\n",
    "            push!(j,s)\n",
    "    end\n",
    "  i,j\n",
    "end"
   ]
  },
  {
   "cell_type": "code",
   "execution_count": null,
   "metadata": {},
   "outputs": [],
   "source": []
  }
 ],
 "metadata": {
  "kernelspec": {
   "display_name": "Julia 0.5.2",
   "language": "julia",
   "name": "julia-0.5"
  },
  "language_info": {
   "file_extension": ".jl",
   "mimetype": "application/julia",
   "name": "julia",
   "version": "0.5.2"
  }
 },
 "nbformat": 4,
 "nbformat_minor": 2
}
