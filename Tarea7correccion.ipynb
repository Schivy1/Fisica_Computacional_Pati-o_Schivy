{
 "cells": [
  {
   "cell_type": "markdown",
   "metadata": {},
   "source": [
    "## Ejercicio 3"
   ]
  },
  {
   "cell_type": "code",
   "execution_count": 5,
   "metadata": {},
   "outputs": [
    {
     "name": "stderr",
     "output_type": "stream",
     "text": [
      "WARNING: Method definition simpson(Function, Any, Any, Any) in module Main at In[1]:2 overwritten at In[5]:2.\n"
     ]
    },
    {
     "data": {
      "text/plain": [
       "simpson (generic function with 1 method)"
      ]
     },
     "execution_count": 5,
     "metadata": {},
     "output_type": "execute_result"
    }
   ],
   "source": [
    "function simpson(f::Function,a,b,N)\n",
    "    h=(b-a)/N\n",
    "    x =zeros(1,N)\n",
    "    x[1]=a\n",
    "    I = 0\n",
    "    for i in 2:N\n",
    "    x[i] = x[i-1] + h\n",
    "    I=I + ((x[i]-x[i-1])/6)*(f(x[i-1])+f(x[i])+(4*f((x[i-1]+x[i])/2)))\n",
    "    end\n",
    "    return I\n",
    "    \n",
    "end"
   ]
  },
  {
   "cell_type": "code",
   "execution_count": 6,
   "metadata": {},
   "outputs": [
    {
     "name": "stderr",
     "output_type": "stream",
     "text": [
      "WARNING: Method definition f(Any) in module Main at In[2]:1 overwritten at In[6]:1.\n"
     ]
    },
    {
     "data": {
      "text/plain": [
       "f (generic function with 1 method)"
      ]
     },
     "execution_count": 6,
     "metadata": {},
     "output_type": "execute_result"
    }
   ],
   "source": [
    "f(x) = x^3-4x^2"
   ]
  },
  {
   "cell_type": "code",
   "execution_count": 13,
   "metadata": {},
   "outputs": [
    {
     "data": {
      "text/plain": [
       "-15.722986544979774"
      ]
     },
     "execution_count": 13,
     "metadata": {},
     "output_type": "execute_result"
    }
   ],
   "source": [
    "simpson(f,0,3,1000) "
   ]
  },
  {
   "cell_type": "markdown",
   "metadata": {},
   "source": [
    "Es importante norar que el valor de la intergral en un intervalo de $[0,3]$ es de -15.75, y entre mayor sea N mejor será la aproximación."
   ]
  },
  {
   "cell_type": "markdown",
   "metadata": {},
   "source": [
    "## Ejercicio 4"
   ]
  },
  {
   "cell_type": "code",
   "execution_count": 14,
   "metadata": {},
   "outputs": [
    {
     "data": {
      "text/plain": [
       "10-element Array{Float64,1}:\n",
       " 0.0     \n",
       " 0.698132\n",
       " 1.39626 \n",
       " 2.0944  \n",
       " 2.79253 \n",
       " 3.49066 \n",
       " 4.18879 \n",
       " 4.88692 \n",
       " 5.58505 \n",
       " 6.28319 "
      ]
     },
     "execution_count": 14,
     "metadata": {},
     "output_type": "execute_result"
    }
   ],
   "source": [
    "x0 = 0 #Se declara un vector x con las particiones del intervalo\n",
    "x1 =(2/9)*pi\n",
    "x2 =(4/9)*pi\n",
    "x3 =(6/9)*pi\n",
    "x4 =(8/9)*pi\n",
    "x5 =(10/9)*pi\n",
    "x6 =(12/9)*pi\n",
    "x7 =(14/9)*pi\n",
    "x8 =(16/9)*pi\n",
    "x9 =(18/9)*pi\n",
    "x = [x0,x1,x2,x3,x4,x5,x6,x7,x8,x9]"
   ]
  },
  {
   "cell_type": "code",
   "execution_count": 16,
   "metadata": {},
   "outputs": [
    {
     "name": "stderr",
     "output_type": "stream",
     "text": [
      "WARNING: Method definition l0(Any) in module Main at In[15]:1 overwritten at In[16]:1.\n"
     ]
    },
    {
     "data": {
      "text/plain": [
       "l0 (generic function with 1 method)"
      ]
     },
     "execution_count": 16,
     "metadata": {},
     "output_type": "execute_result"
    }
   ],
   "source": [
    "l0(x) = ((x-x1)/(x0-x1))*((x-x2)/(x0-x2))*((x-x3)/(x0-x3))*((x-x4)/(x0-x4))*((x-x5)/(x0-x5))*((x-x6)/(x0-x6))*((x-x7)/(x0-x7))*((x-x8)/(x0-x8))*((x-x9)/(x0-x9))"
   ]
  },
  {
   "cell_type": "code",
   "execution_count": 17,
   "metadata": {},
   "outputs": [
    {
     "data": {
      "text/plain": [
       "l1 (generic function with 1 method)"
      ]
     },
     "execution_count": 17,
     "metadata": {},
     "output_type": "execute_result"
    }
   ],
   "source": [
    "l1(x) = ((x-x0)/(x1-x0))*((x-x2)/(x1-x2))*((x-x3)/(x1-x3))*((x-x4)/(x1-x4))*((x-x5)/(x1-x5))*((x-x6)/(x1-x6))*((x-x7)/(x1-x7))*((x-x8)/(x1-x8))*((x-x9)/(x1-x9))"
   ]
  },
  {
   "cell_type": "code",
   "execution_count": 18,
   "metadata": {},
   "outputs": [
    {
     "data": {
      "text/plain": [
       "l2 (generic function with 1 method)"
      ]
     },
     "execution_count": 18,
     "metadata": {},
     "output_type": "execute_result"
    }
   ],
   "source": [
    "l2(x)= ((x-x0)/(x2-x0))*((x-x1)/(x2-x1))*((x-x3)/(x2-x3))*((x-x4)/(x2-x4))*((x-x5)/(x2-x5))*((x-x6)/(x2-x6))*((x-x7)/(x2-x7))*((x-x8)/(x2-x8))*((x-x9)/(x2-x9))"
   ]
  },
  {
   "cell_type": "code",
   "execution_count": 19,
   "metadata": {},
   "outputs": [
    {
     "data": {
      "text/plain": [
       "l3 (generic function with 1 method)"
      ]
     },
     "execution_count": 19,
     "metadata": {},
     "output_type": "execute_result"
    }
   ],
   "source": [
    "l3(x)= ((x-x0)/(x3-x0))*((x-x1)/(x3-x1))*((x-x2)/(x3-x2))*((x-x4)/(x3-x4))*((x-x5)/(x3-x5))*((x-x6)/(x3-x6))*((x-x7)/(x3-x7))*((x-x8)/(x3-x8))*((x-x9)/(x3-x9))"
   ]
  },
  {
   "cell_type": "code",
   "execution_count": 20,
   "metadata": {},
   "outputs": [
    {
     "data": {
      "text/plain": [
       "l4 (generic function with 1 method)"
      ]
     },
     "execution_count": 20,
     "metadata": {},
     "output_type": "execute_result"
    }
   ],
   "source": [
    "l4(x)= ((x-x0)/(x4-x0))*((x-x1)/(x4-x1))*((x-x2)/(x4-x2))*((x-x3)/(x4-x3))*((x-x5)/(x4-x5))*((x-x6)/(x4-x6))*((x-x7)/(x4-x7))*((x-x8)/(x4-x8))*((x-x9)/(x4-x9))"
   ]
  },
  {
   "cell_type": "code",
   "execution_count": 21,
   "metadata": {},
   "outputs": [
    {
     "data": {
      "text/plain": [
       "l5 (generic function with 1 method)"
      ]
     },
     "execution_count": 21,
     "metadata": {},
     "output_type": "execute_result"
    }
   ],
   "source": [
    "l5(x)= ((x-x0)/(x5-x0))*((x-x1)/(x5-x1))*((x-x2)/(x5-x2))*((x-x3)/(x5-x3))*((x-x4)/(x5-x4))*((x-x6)/(x5-x6))*((x-x7)/(x5-x7))*((x-x8)/(x5-x8))*((x-x9)/(x5-x9))"
   ]
  },
  {
   "cell_type": "code",
   "execution_count": 22,
   "metadata": {},
   "outputs": [
    {
     "data": {
      "text/plain": [
       "l6 (generic function with 1 method)"
      ]
     },
     "execution_count": 22,
     "metadata": {},
     "output_type": "execute_result"
    }
   ],
   "source": [
    "l6(x)= ((x-x0)/(x6-x0))*((x-x1)/(x6-x1))*((x-x2)/(x6-x2))*((x-x3)/(x6-x3))*((x-x4)/(x6-x4))*((x-x5)/(x6-x5))*((x-x7)/(x6-x7))*((x-x8)/(x6-x8))*((x-x9)/(x6-x9))"
   ]
  },
  {
   "cell_type": "code",
   "execution_count": 23,
   "metadata": {},
   "outputs": [
    {
     "data": {
      "text/plain": [
       "l7 (generic function with 1 method)"
      ]
     },
     "execution_count": 23,
     "metadata": {},
     "output_type": "execute_result"
    }
   ],
   "source": [
    "l7(x)= ((x-x0)/(x7-x0))*((x-x1)/(x7-x1))*((x-x2)/(x7-x2))*((x-x3)/(x7-x3))*((x-x4)/(x7-x4))*((x-x5)/(x7-x5))*((x-x6)/(x7-x6))*((x-x8)/(x7-x8))*((x-x9)/(x7-x9))"
   ]
  },
  {
   "cell_type": "code",
   "execution_count": 24,
   "metadata": {},
   "outputs": [
    {
     "data": {
      "text/plain": [
       "l8 (generic function with 1 method)"
      ]
     },
     "execution_count": 24,
     "metadata": {},
     "output_type": "execute_result"
    }
   ],
   "source": [
    "l8(x)= ((x-x0)/(x8-x0))*((x-x1)/(x8-x1))*((x-x2)/(x8-x2))*((x-x3)/(x8-x3))*((x-x4)/(x8-x4))*((x-x5)/(x8-x5))*((x-x6)/(x8-x6))*((x-x7)/(x8-x7))*((x-x9)/(x8-x9))"
   ]
  },
  {
   "cell_type": "code",
   "execution_count": 25,
   "metadata": {},
   "outputs": [
    {
     "data": {
      "text/plain": [
       "l9 (generic function with 1 method)"
      ]
     },
     "execution_count": 25,
     "metadata": {},
     "output_type": "execute_result"
    }
   ],
   "source": [
    "l9(x)= ((x-x0)/(x9-x0))*((x-x1)/(x9-x1))*((x-x2)/(x9-x2))*((x-x3)/(x9-x3))*((x-x4)/(x9-x4))*((x-x5)/(x9-x5))*((x-x6)/(x9-x6))*((x-x7)/(x9-x7))*((x-x8)/(x9-x8))"
   ]
  },
  {
   "cell_type": "code",
   "execution_count": 26,
   "metadata": {},
   "outputs": [
    {
     "data": {
      "text/plain": [
       "yi (generic function with 1 method)"
      ]
     },
     "execution_count": 26,
     "metadata": {},
     "output_type": "execute_result"
    }
   ],
   "source": [
    "function yi(x) #Esta función genera un arreglo con las entradas de x\n",
    "    y = zeros(1,10)\n",
    "    for i in 1:10\n",
    "        y[i] = cos(x[i])\n",
    "    end\n",
    "    return y\n",
    "end"
   ]
  },
  {
   "cell_type": "code",
   "execution_count": 27,
   "metadata": {},
   "outputs": [
    {
     "data": {
      "text/plain": [
       "L (generic function with 1 method)"
      ]
     },
     "execution_count": 27,
     "metadata": {},
     "output_type": "execute_result"
    }
   ],
   "source": [
    "function L(x,y)# Se define el polinomio de lagrange\n",
    "    r = zeros(1,10)\n",
    "    for i in 1:10\n",
    "    z = x[i]  \n",
    "    r[i] = y[1]*l0(z)+y[2]*l1(z)+y[3]*l2(z)+y[4]*l3(z)+y[5]*l4(z)+y[6]*l5(z)+y[7]*l6(z)+y[8]*l7(z)+y[9]*l8(z)+y[10]*l9(z)\n",
    "    end\n",
    "return r\n",
    "end"
   ]
  },
  {
   "cell_type": "code",
   "execution_count": 28,
   "metadata": {},
   "outputs": [
    {
     "data": {
      "text/plain": [
       "1×10 Array{Float64,2}:\n",
       " 1.0  0.766044  0.173648  -0.5  -0.939693  …  -0.5  0.173648  0.766044  1.0"
      ]
     },
     "execution_count": 28,
     "metadata": {},
     "output_type": "execute_result"
    }
   ],
   "source": [
    "y=yi(x)"
   ]
  },
  {
   "cell_type": "code",
   "execution_count": 43,
   "metadata": {},
   "outputs": [
    {
     "data": {
      "text/plain": [
       "1×10 Array{Float64,2}:\n",
       " 1.0  0.766044  0.173648  -0.5  -0.939693  …  -0.5  0.173648  0.766044  1.0"
      ]
     },
     "execution_count": 43,
     "metadata": {},
     "output_type": "execute_result"
    }
   ],
   "source": [
    " H =L(x,y) # Podemos ver que la interpolación tine los mismos valores que la función, por lo tanto el método realiza muy buenas aproximaciones"
   ]
  },
  {
   "cell_type": "code",
   "execution_count": 6,
   "metadata": {},
   "outputs": [],
   "source": [
    "using PyPlot"
   ]
  },
  {
   "cell_type": "code",
   "execution_count": 48,
   "metadata": {},
   "outputs": [
    {
     "data": {
      "image/png": "[encoded data removed]",
      "text/plain": [
       "PyPlot.Figure(PyObject <matplotlib.figure.Figure object at 0x7fa30801dad0>)"
      ]
     },
     "metadata": {},
     "output_type": "display_data"
    }
   ],
   "source": [
    "title(\"Interpolación cos(x)\")\n",
    "scatter(x,y)\n",
    "scatter(x,H)\n",
    "show()"
   ]
  },
  {
   "cell_type": "code",
   "execution_count": 52,
   "metadata": {},
   "outputs": [
    {
     "data": {
      "text/plain": [
       "y2i (generic function with 1 method)"
      ]
     },
     "execution_count": 52,
     "metadata": {},
     "output_type": "execute_result"
    }
   ],
   "source": [
    "function y2i(x) #se genero una función que genere arreglos con la función de coseno cuadrado\n",
    "    y = zeros(1,10)\n",
    "    for i in 1:10\n",
    "        y[i] = cos(x[i])*cos(x[i])\n",
    "    end\n",
    "    return y\n",
    "end"
   ]
  },
  {
   "cell_type": "code",
   "execution_count": 58,
   "metadata": {},
   "outputs": [
    {
     "data": {
      "text/plain": [
       "1×10 Array{Float64,2}:\n",
       " 1.0  0.586824  0.0301537  0.25  0.883022  …  0.25  0.0301537  0.586824  1.0"
      ]
     },
     "execution_count": 58,
     "metadata": {},
     "output_type": "execute_result"
    }
   ],
   "source": [
    "y2i(x)"
   ]
  },
  {
   "cell_type": "code",
   "execution_count": 54,
   "metadata": {},
   "outputs": [
    {
     "data": {
      "text/plain": [
       "1×10 Array{Float64,2}:\n",
       " 1.0  0.586824  0.0301537  0.25  0.883022  …  0.25  0.0301537  0.586824  1.0"
      ]
     },
     "execution_count": 54,
     "metadata": {},
     "output_type": "execute_result"
    }
   ],
   "source": [
    "T=L(x,y2i(x))"
   ]
  },
  {
   "cell_type": "code",
   "execution_count": 59,
   "metadata": {},
   "outputs": [
    {
     "data": {
      "image/png": "[encoded data removed]",
      "text/plain": [
       "PyPlot.Figure(PyObject <matplotlib.figure.Figure object at 0x7fa3082f9910>)"
      ]
     },
     "metadata": {},
     "output_type": "display_data"
    },
    {
     "data": {
      "text/plain": [
       "PyObject <matplotlib.collections.PathCollection object at 0x7fa307f9b2d0>"
      ]
     },
     "execution_count": 59,
     "metadata": {},
     "output_type": "execute_result"
    }
   ],
   "source": [
    "scatter(x,T)\n",
    "scatter(x,y2i(x))"
   ]
  },
  {
   "cell_type": "markdown",
   "metadata": {},
   "source": [
    "### Otra forma pero con Sympy"
   ]
  },
  {
   "cell_type": "code",
   "execution_count": 61,
   "metadata": {},
   "outputs": [
    {
     "name": "stderr",
     "output_type": "stream",
     "text": [
      "WARNING: using SymPy.H in module Main conflicts with an existing identifier.\n"
     ]
    }
   ],
   "source": [
    "using SymPy"
   ]
  },
  {
   "cell_type": "code",
   "execution_count": 73,
   "metadata": {},
   "outputs": [
    {
     "name": "stderr",
     "output_type": "stream",
     "text": [
      "WARNING: Method definition L2(Any, Any, Any) in module Main at In[66]:3 overwritten at In[73]:3.\n"
     ]
    },
    {
     "data": {
      "text/plain": [
       "L2 (generic function with 2 methods)"
      ]
     },
     "execution_count": 73,
     "metadata": {},
     "output_type": "execute_result"
    }
   ],
   "source": [
    "X=Sym(\"X\")\n",
    "function L2(x,y,X)    \n",
    "    X=Sym(\"X\")  \n",
    "    N=length(x) \n",
    "    L = 0           \n",
    "    for j in 1:N    \n",
    "        n=1   \n",
    "        d=1 \n",
    "        for i in 1:N  \n",
    "            if j !== i   \n",
    "            n = n*(X-x[i])\n",
    "           d = d*(x[j]-x[i])\n",
    "            end\n",
    "        end\n",
    "    L = L + (n/d)*y[j]  \n",
    "    L=simplify(L)    \n",
    "end \n",
    "    L\n",
    "end"
   ]
  },
  {
   "cell_type": "code",
   "execution_count": 74,
   "metadata": {},
   "outputs": [
    {
     "data": {
      "text/latex": [
       "$$6.83047368665868 \\cdot 10^{-18} X^{9} - 1.9797933636022 \\cdot 10^{-5} X^{8} + 0.000497576342935509 X^{7} - 0.00411366974808167 X^{6} + 0.00878850466173803 X^{5} + 0.0243778891541633 X^{4} + 0.0201425548286519 X^{3} - 0.51254334976388 X^{2} + 0.00313254720752185 X + 1.0$$"
      ],
      "text/plain": [
       "                      9                       8                         7     \n",
       "6.83047368665868e-18*X  - 1.9797933636022e-5*X  + 0.000497576342935509*X  - 0.\n",
       "\n",
       "                   6                        5                       4         \n",
       "00411366974808167*X  + 0.00878850466173803*X  + 0.0243778891541633*X  + 0.0201\n",
       "\n",
       "              3                     2                              \n",
       "425548286519*X  - 0.51254334976388*X  + 0.00313254720752185*X + 1.0"
      ]
     },
     "execution_count": 74,
     "metadata": {},
     "output_type": "execute_result"
    }
   ],
   "source": [
    "L2(x,y,X)"
   ]
  },
  {
   "cell_type": "code",
   "execution_count": 78,
   "metadata": {},
   "outputs": [
    {
     "data": {
      "image/png": "[encoded data removed]",
      "text/plain": [
       "PyPlot.Figure(PyObject <matplotlib.figure.Figure object at 0x7fa306b16190>)"
      ]
     },
     "metadata": {},
     "output_type": "display_data"
    },
    {
     "data": {
      "text/plain": [
       "1-element Array{Any,1}:\n",
       " PyObject <matplotlib.lines.Line2D object at 0x7fa30735a510>"
      ]
     },
     "execution_count": 78,
     "metadata": {},
     "output_type": "execute_result"
    }
   ],
   "source": [
    "interpolacion = lambdify(L2(x,y,X))\n",
    "listx = linspace(0,2*pi,100)\n",
    "listy= interpolacion(listx)\n",
    "scatter(x,y)\n",
    "plot(listx,listy)"
   ]
  },
  {
   "cell_type": "code",
   "execution_count": 80,
   "metadata": {},
   "outputs": [
    {
     "data": {
      "image/png": "[encoded data removed]",
      "text/plain": [
       "PyPlot.Figure(PyObject <matplotlib.figure.Figure object at 0x7fa306b1d990>)"
      ]
     },
     "metadata": {},
     "output_type": "display_data"
    },
    {
     "data": {
      "text/plain": [
       "1-element Array{Any,1}:\n",
       " PyObject <matplotlib.lines.Line2D object at 0x7fa3073621d0>"
      ]
     },
     "execution_count": 80,
     "metadata": {},
     "output_type": "execute_result"
    }
   ],
   "source": [
    "interpolacion = lambdify(L2(x,y2i(x),X))\n",
    "listx = linspace(0,2*pi,100)\n",
    "listy= interpolacion(listx)\n",
    "scatter(x,y2i(x))\n",
    "plot(listx,listy)"
   ]
  },
  {
   "cell_type": "code",
   "execution_count": 81,
   "metadata": {},
   "outputs": [
    {
     "data": {
      "text/latex": [
       "$$- \\frac{173 X^{6}}{2520} + \\frac{113 X^{5}}{84} - \\frac{4957 X^{4}}{504} + \\frac{2731 X^{3}}{84} - \\frac{54571 X^{2}}{1260} + \\frac{83 X}{14} + 10$$"
      ],
      "text/plain": [
       "       6        5         4         3          2            \n",
       "  173*X    113*X    4957*X    2731*X    54571*X    83*X     \n",
       "- ------ + ------ - ------- + ------- - -------- + ---- + 10\n",
       "   2520      84       504        84       1260      14      "
      ]
     },
     "execution_count": 81,
     "metadata": {},
     "output_type": "execute_result"
    }
   ],
   "source": [
    "s =[0,2,3,4,5,6,7]\n",
    "t =[10,-10,-4,0,5,20,-1]\n",
    "L2(s,t,X)"
   ]
  },
  {
   "cell_type": "code",
   "execution_count": 83,
   "metadata": {},
   "outputs": [
    {
     "data": {
      "image/png": "[encoded data removed]",
      "text/plain": [
       "PyPlot.Figure(PyObject <matplotlib.figure.Figure object at 0x7fa306878750>)"
      ]
     },
     "metadata": {},
     "output_type": "display_data"
    }
   ],
   "source": [
    "int=lambdify(L2(s,t,X))\n",
    "lists=linspace(0,7,100)\n",
    "listt=int(lists)\n",
    "title(\"Interpolación\")\n",
    "scatter(s,t)\n",
    "plot(lists,listt)\n",
    "show()"
   ]
  },
  {
   "cell_type": "code",
   "execution_count": 7,
   "metadata": {},
   "outputs": [
    {
     "data": {
      "text/plain": [
       "riemann (generic function with 1 method)"
      ]
     },
     "execution_count": 7,
     "metadata": {},
     "output_type": "execute_result"
    }
   ],
   "source": [
    "function riemann(f::Function,a,b,N)\n",
    "  l = zeros(1,N)\n",
    "    for i in 1:N\n",
    "        g=0\n",
    "        h=(b-a)/i\n",
    "      x = zeros(1,i)\n",
    "        x[1]=a\n",
    "       for j in 2:i\n",
    "        x[j] = x[j-1]+ h\n",
    "        g = g + (x[j]- x[j-1])*f((x[j-1]+x[j])/2)\n",
    "    end\n",
    "        l[i] = g\n",
    "    end\n",
    "    return l\n",
    "end"
   ]
  },
  {
   "cell_type": "code",
   "execution_count": 8,
   "metadata": {},
   "outputs": [
    {
     "data": {
      "text/plain": [
       "trapecios (generic function with 1 method)"
      ]
     },
     "execution_count": 8,
     "metadata": {},
     "output_type": "execute_result"
    }
   ],
   "source": [
    "function trapecios(f::Function,a,b,N)\n",
    "    l = zeros(1,N)\n",
    "    for i in 2:N\n",
    "        h =(b-a)/i\n",
    "        g=0\n",
    "        x=zeros(1,i)\n",
    "        x[1]=a\n",
    "        for j in 2:i\n",
    "        x[i]=x[i-1]-h\n",
    "        g = g+((x[j]-x[j-1]))*((f(x[j-1])+f(x[j]))/2)\n",
    "    end\n",
    "        l[i]=g\n",
    "    end\n",
    "    return l\n",
    "end"
   ]
  },
  {
   "cell_type": "code",
   "execution_count": 9,
   "metadata": {},
   "outputs": [
    {
     "data": {
      "text/plain": [
       "simpson2 (generic function with 1 method)"
      ]
     },
     "execution_count": 9,
     "metadata": {},
     "output_type": "execute_result"
    }
   ],
   "source": [
    "function simpson2(f,a,b,N)\n",
    "    l=zeros(1,N)\n",
    "    for i in 1:N\n",
    "        h=(b-a)/i\n",
    "        g=0\n",
    "        x=zeros(1,i)\n",
    "        x[1]=a\n",
    "        for j in 2:i \n",
    "            x[j]=x[j-1]+h\n",
    "            g = g + (1/6)*(x[j]-x[j-1])*(f(x[j-1])+4*f((x[j-1]+x[j])/2)+f(x[j])) \n",
    "        end\n",
    "        l[i]=g\n",
    "    end\n",
    "    l\n",
    "end"
   ]
  },
  {
   "cell_type": "code",
   "execution_count": 10,
   "metadata": {},
   "outputs": [
    {
     "name": "stderr",
     "output_type": "stream",
     "text": [
      "WARNING: Method definition f(Any) in module Main at In[3]:1 overwritten at In[10]:1.\n"
     ]
    },
    {
     "data": {
      "text/plain": [
       "f (generic function with 1 method)"
      ]
     },
     "execution_count": 10,
     "metadata": {},
     "output_type": "execute_result"
    }
   ],
   "source": [
    "f(x)=-(sin(x))"
   ]
  },
  {
   "cell_type": "code",
   "execution_count": 11,
   "metadata": {},
   "outputs": [
    {
     "data": {
      "text/plain": [
       "1×100 Array{Float64,2}:\n",
       " 0.0  -3.14159  -1.8138  -1.11072  -0.738633  …  -0.00201366  -0.0019736"
      ]
     },
     "execution_count": 11,
     "metadata": {},
     "output_type": "execute_result"
    }
   ],
   "source": [
    "r =riemann(f,0,2*pi,100)"
   ]
  },
  {
   "cell_type": "code",
   "execution_count": 12,
   "metadata": {},
   "outputs": [
    {
     "data": {
      "text/plain": [
       "1×100 Array{Float64,2}:\n",
       " 0.0  -1.92367e-16  -0.9069  -0.785398  …  -0.00201265  -0.00197262"
      ]
     },
     "execution_count": 12,
     "metadata": {},
     "output_type": "execute_result"
    }
   ],
   "source": [
    "t=trapecios(f,0,2*pi,100) "
   ]
  },
  {
   "cell_type": "code",
   "execution_count": 13,
   "metadata": {},
   "outputs": [
    {
     "data": {
      "text/plain": [
       "1×100 Array{Float64,2}:\n",
       " 0.0  -2.0944  -1.5115  -1.00228  -0.691611  …  -0.00201332  -0.00197327"
      ]
     },
     "execution_count": 13,
     "metadata": {},
     "output_type": "execute_result"
    }
   ],
   "source": [
    "s=simpson2(f,0,2*pi,100)"
   ]
  },
  {
   "cell_type": "code",
   "execution_count": 18,
   "metadata": {},
   "outputs": [
    {
     "ename": "LoadError",
     "evalue": "PyError (:PyObject_Call) <type 'exceptions.ValueError'>\nValueError(u'x and y must have same first dimension, but have shapes (100,) and (1, 100)',)\n  File \"/usr/local/lib/python2.7/dist-packages/matplotlib/pyplot.py\", line 3317, in plot\n    ret = ax.plot(*args, **kwargs)\n  File \"/usr/local/lib/python2.7/dist-packages/matplotlib/__init__.py\", line 1898, in inner\n    return func(ax, *args, **kwargs)\n  File \"/usr/local/lib/python2.7/dist-packages/matplotlib/axes/_axes.py\", line 1406, in plot\n    for line in self._get_lines(*args, **kwargs):\n  File \"/usr/local/lib/python2.7/dist-packages/matplotlib/axes/_base.py\", line 407, in _grab_next_args\n    for seg in self._plot_args(remaining, kwargs):\n  File \"/usr/local/lib/python2.7/dist-packages/matplotlib/axes/_base.py\", line 385, in _plot_args\n    x, y = self._xy_from_xy(x, y)\n  File \"/usr/local/lib/python2.7/dist-packages/matplotlib/axes/_base.py\", line 244, in _xy_from_xy\n    \"have shapes {} and {}\".format(x.shape, y.shape))\n",
     "output_type": "error",
     "traceback": [
      "PyError (:PyObject_Call) <type 'exceptions.ValueError'>\nValueError(u'x and y must have same first dimension, but have shapes (100,) and (1, 100)',)\n  File \"/usr/local/lib/python2.7/dist-packages/matplotlib/pyplot.py\", line 3317, in plot\n    ret = ax.plot(*args, **kwargs)\n  File \"/usr/local/lib/python2.7/dist-packages/matplotlib/__init__.py\", line 1898, in inner\n    return func(ax, *args, **kwargs)\n  File \"/usr/local/lib/python2.7/dist-packages/matplotlib/axes/_axes.py\", line 1406, in plot\n    for line in self._get_lines(*args, **kwargs):\n  File \"/usr/local/lib/python2.7/dist-packages/matplotlib/axes/_base.py\", line 407, in _grab_next_args\n    for seg in self._plot_args(remaining, kwargs):\n  File \"/usr/local/lib/python2.7/dist-packages/matplotlib/axes/_base.py\", line 385, in _plot_args\n    x, y = self._xy_from_xy(x, y)\n  File \"/usr/local/lib/python2.7/dist-packages/matplotlib/axes/_base.py\", line 244, in _xy_from_xy\n    \"have shapes {} and {}\".format(x.shape, y.shape))\n",
      "",
      " in pyerr_check at /opt/julia_packages/.julia/v0.5/PyCall/src/exception.jl:56 [inlined]",
      " in pyerr_check at /opt/julia_packages/.julia/v0.5/PyCall/src/exception.jl:61 [inlined]",
      " in macro expansion at /opt/julia_packages/.julia/v0.5/PyCall/src/exception.jl:81 [inlined]",
      " in #_pycall#66(::Array{Any,1}, ::Function, ::PyCall.PyObject, ::LinSpace{Float64}, ::Vararg{Any,N}) at /opt/julia_packages/.julia/v0.5/PyCall/src/PyCall.jl:653",
      " in _pycall(::PyCall.PyObject, ::LinSpace{Float64}, ::Vararg{Any,N}) at /opt/julia_packages/.julia/v0.5/PyCall/src/PyCall.jl:641",
      " in #pycall#70(::Array{Any,1}, ::Function, ::PyCall.PyObject, ::Type{PyCall.PyAny}, ::LinSpace{Float64}, ::Vararg{Any,N}) at /opt/julia_packages/.julia/v0.5/PyCall/src/PyCall.jl:675",
      " in pycall(::PyCall.PyObject, ::Type{PyCall.PyAny}, ::LinSpace{Float64}, ::Vararg{Any,N}) at /opt/julia_packages/.julia/v0.5/PyCall/src/PyCall.jl:675",
      " in #plot#85(::Array{Any,1}, ::Function, ::LinSpace{Float64}, ::Vararg{Any,N}) at /opt/julia_packages/.julia/v0.5/PyPlot/src/PyPlot.jl:172",
      " in grafica(::Function, ::Int64, ::Float64, ::Int64) at ./In[17]:4",
      " in include_string(::String, ::String) at ./loading.jl:441"
     ]
    }
   ],
   "source": [
    "grafica(f,0,2*pi,100)"
   ]
  },
  {
   "cell_type": "code",
   "execution_count": 19,
   "metadata": {},
   "outputs": [],
   "source": [
    "metodo1=[-3.14159, -1.8138, -1.11072, -0.738633, -0.523599, -0.389453, -0.300559, -0.238775, -0.194161, -0.160925, -0.135517, -0.115667, -0.0998672, -0.0870898, -0.0766118, -0.0679137, -0.0606146, -0.0544304, -0.0491453, -0.0445933, -0.040645, -0.0371983, -0.0341717, -0.0314997, -0.029129, -0.027016, -0.0251248, -0.0234252, -0.0218924, -0.0205051, -0.0192456, -0.0180986, -0.0170512, -0.016092, -0.0152115, -0.0144014, -0.0136542, -0.0129638, -0.0123243, -0.0117311, -0.0111796, -0.0106661, -0.0101872, -0.00973984, -0.0093213, -0.00892916, -0.00856125, -0.00821561, -0.00789049, -0.00758429, -0.00729556, -0.00702302, -0.00676546, -0.00652181, -0.00629109, -0.0060724, -0.00586491, -0.00566788, -0.00548061, -0.00530247, -0.00513287, -0.00497128, -0.00481721, -0.00467018, -0.00452979, -0.00439563, -0.00426734, -0.00414459, -0.00402706, -0.00391446, -0.00380651, -0.00370297, -0.00360359, -0.00350817, -0.00341648, -0.00332834, -0.00324357, -0.00316199, -0.00308346, -0.00300781, -0.00293492, -0.00286464, -0.00279685, -0.00273145, -0.00266831, -0.00260734, -0.00254843, -0.00249149, -0.00243644, -0.0023832, -0.00233168, -0.00228182, -0.00223354, -0.00218677, -0.00214146, -0.00209754, -0.00205496, -0.00201366, -0.0019736];"
   ]
  },
  {
   "cell_type": "code",
   "execution_count": 20,
   "metadata": {},
   "outputs": [],
   "source": [
    "metodo2=[-1.92367e-16, -0.9069, -0.785398, -0.597566, -0.45345, -0.350885, -0.27768, -0.224375, -0.184658, -0.154407, -0.1309, -0.112305, -0.0973633, -0.0851867, -0.0751397, -0.0667573, -0.0596938, -0.0536881, -0.0485403, -0.0440953, -0.0402313, -0.0368518, -0.0338793, -0.0312513, -0.0289166, -0.0268334, -0.0249668, -0.0232879, -0.0217725, -0.0203999, -0.0191529, -0.0180167, -0.0169784, -0.0160272, -0.0151537, -0.0143495, -0.0136076, -0.0129217, -0.0122863, -0.0116966, -0.0111483, -0.0106377, -0.0101613, -0.00971612, -0.00929957, -0.00890922, -0.00854292, -0.00819873, -0.00787492, -0.0075699, -0.00728225, -0.00701068, -0.00675401, -0.00651117, -0.00628119, -0.00606318, -0.00585631, -0.00565984, -0.0054731, -0.00529544, -0.00512628, -0.00496511, -0.00481141, -0.00466473, -0.00452466, -0.0043908, -0.00426279, -0.00414029, -0.004023, -0.00391062, -0.00380289, -0.00369954, -0.00360035, -0.00350509, -0.00341356, -0.00332557, -0.00324094, -0.00315949, -0.00308108, -0.00300555, -0.00293276, -0.00286259, -0.0027949, -0.00272958, -0.00266653, -0.00260564, -0.0025468, -0.00248994, -0.00243496, -0.00238178, -0.00233032, -0.00228052, -0.00223229, -0.00218558, -0.00214031, -0.00209644, -0.0020539, -0.00201265, -0.00197262];"
   ]
  },
  {
   "cell_type": "code",
   "execution_count": 21,
   "metadata": {},
   "outputs": [],
   "source": [
    "metodo3=[-2.0944, -1.5115, -1.00228, -0.691611, -0.500216, -0.376597, -0.292933, -0.233975, -0.190993, -0.158752, -0.133978, -0.114546, -0.0990325, -0.0864555, -0.0761211, -0.0675282, -0.0603077, -0.054183, -0.0489436, -0.0444273, -0.0405071, -0.0370828, -0.0340742, -0.0314169, -0.0290582, -0.0269552, -0.0250721, -0.0233795, -0.0218524, -0.0204701, -0.0192147, -0.0180713, -0.0170269, -0.0160704, -0.0151923, -0.0143841, -0.0136387, -0.0129497, -0.0123117, -0.0117196, -0.0111692, -0.0106566, -0.0101786, -0.00973193, -0.00931406, -0.00892251, -0.00855514, -0.00820999, -0.0078853, -0.00757949, -0.00729113, -0.0070189, -0.00676164, -0.00651827, -0.00628779, -0.00606932, -0.00586204, -0.0056652, -0.0054781, -0.00530012, -0.00513068, -0.00496922, -0.00481527, -0.00466837, -0.00452808, -0.00439402, -0.00426582, -0.00414316, -0.00402571, -0.00391318, -0.0038053, -0.00370183, -0.00360251, -0.00350714, -0.00341551, -0.00332742, -0.00324269, -0.00316116, -0.00308267, -0.00300706, -0.0029342, -0.00286395, -0.0027962, -0.00273083, -0.00266772, -0.00260677, -0.00254789, -0.00249097, -0.00243595, -0.00238273, -0.00233123, -0.00228139, -0.00223312, -0.00218637, -0.00214108, -0.00209717, -0.00205461, -0.00201332, -0.00197327];"
   ]
  },
  {
   "cell_type": "code",
   "execution_count": 22,
   "metadata": {},
   "outputs": [
    {
     "data": {
      "image/png": "[encoded data removed]",
      "text/plain": [
       "PyPlot.Figure(PyObject <matplotlib.figure.Figure object at 0x7f1f310193d0>)"
      ]
     },
     "metadata": {},
     "output_type": "display_data"
    }
   ],
   "source": [
    "title(\"Convergenia de los 3 métodos\")\n",
    "n=1:99\n",
    "plot(n/2pi,metodo1, label = L\"Riemann\")  \n",
    "legend()\n",
    "plot(n/2pi,metodo2,label = L\"Trapecio\")\n",
    "legend()\n",
    "plot(n/2pi,metodo3,label = L\"Simpson\")\n",
    "legend()\n",
    "show()"
   ]
  },
  {
   "cell_type": "markdown",
   "metadata": {},
   "source": [
    "En la gráfica se observa como todos los métodos convergen, aunque unos mas rápido que otros. Nota: La gráfica mostrada es de un compañero la tome con su autorización, tuve que hacerlo porque no conseguí gráficar debido a un problema con las dimeciones en el eje \"X\" pero mis resultados númericos coinciden porlo que se tendría que ver igual."
   ]
  },
  {
   "cell_type": "code",
   "execution_count": null,
   "metadata": {},
   "outputs": [],
   "source": []
  }
 ],
 "metadata": {
  "kernelspec": {
   "display_name": "Julia 0.5.2",
   "language": "julia",
   "name": "julia-0.5"
  },
  "language_info": {
   "file_extension": ".jl",
   "mimetype": "application/julia",
   "name": "julia",
   "version": "0.5.2"
  }
 },
 "nbformat": 4,
 "nbformat_minor": 2
}
