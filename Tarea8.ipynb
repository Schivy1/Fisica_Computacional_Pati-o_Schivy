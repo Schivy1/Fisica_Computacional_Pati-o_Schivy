{
 "cells": [
  {
   "cell_type": "markdown",
   "metadata": {},
   "source": [
    "## Ejercicio 1"
   ]
  },
  {
   "cell_type": "code",
   "execution_count": 1,
   "metadata": {
    "collapsed": false
   },
   "outputs": [
    {
     "data": {
      "text/plain": [
       "DerivadaNumerica (generic function with 1 method)"
      ]
     },
     "execution_count": 1,
     "metadata": {},
     "output_type": "execute_result"
    }
   ],
   "source": [
    "function DerivadaNumerica(f::Function,x,h)\n",
    "    df = (f(x+h) -f(x))/h\n",
    "    return df\n",
    "end"
   ]
  },
  {
   "cell_type": "code",
   "execution_count": 4,
   "metadata": {
    "collapsed": false
   },
   "outputs": [
    {
     "data": {
      "text/plain": [
       "1.0000010000005"
      ]
     },
     "execution_count": 4,
     "metadata": {},
     "output_type": "execute_result"
    }
   ],
   "source": [
    "f(x)=x*exp(x)\n",
    "DerivadaNumerica(f,0,0.000001)"
   ]
  },
  {
   "cell_type": "markdown",
   "metadata": {
    "collapsed": true
   },
   "source": [
    "## Ejercicio 7"
   ]
  },
  {
   "cell_type": "markdown",
   "metadata": {},
   "source": [
    "Sabemos que $\\Delta_h= exp \\left(h\\left. \\frac{d}{d\\xi}\\right|_{\\xi=x}\\right)-1$ y que $\\Delta_{-h}= exp \\left(h\\left. \\frac{d}{d\\xi}\\right|_{\\xi=x}\\right)-1.$\n",
    "\n",
    "\n",
    "\n",
    "Entonces: $\\delta_h=\\Delta_h-\\Delta_{-h} = exp \\left(h\\left. \\frac{d}{d\\xi}\\right|_{\\xi=x}\\right)-1 -exp \\left(h\\left. \\frac{d}{d\\xi}\\right|_{\\xi=x}\\right)+1 = 2sinh\\left(h\\left. \\frac{d}{d\\xi}\\right|_{\\xi=x}\\right)$, despejando $\\left. \\frac{d}{d\\xi}\\right|_{\\xi=x}$ tenemos:\n",
    "\n",
    "$\\left. \\frac{d}{d\\xi}\\right|_{\\xi=x} = (1/h)sinh^{-1}\\left(\\delta_h/2\\right)$"
   ]
  },
  {
   "cell_type": "code",
   "execution_count": null,
   "metadata": {
    "collapsed": true
   },
   "outputs": [],
   "source": []
  },
  {
   "cell_type": "code",
   "execution_count": null,
   "metadata": {
    "collapsed": true
   },
   "outputs": [],
   "source": []
  }
 ],
 "metadata": {
  "kernelspec": {
   "display_name": "Julia 0.6.0",
   "language": "julia",
   "name": "julia-0.6"
  },
  "language_info": {
   "file_extension": ".jl",
   "mimetype": "application/julia",
   "name": "julia",
   "version": "0.6.0"
  }
 },
 "nbformat": 4,
 "nbformat_minor": 2
}
